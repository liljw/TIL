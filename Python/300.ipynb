{
 "cells": [
  {
   "cell_type": "code",
   "execution_count": 1,
   "id": "162595b0",
   "metadata": {},
   "outputs": [
    {
     "name": "stdout",
     "output_type": "stream",
     "text": [
      "Hello World\n"
     ]
    }
   ],
   "source": [
    "# 1\n",
    "print('Hello World')"
   ]
  },
  {
   "cell_type": "code",
   "execution_count": 2,
   "id": "457b2dca",
   "metadata": {},
   "outputs": [
    {
     "name": "stdout",
     "output_type": "stream",
     "text": [
      "Mary's Cosmetics\n"
     ]
    }
   ],
   "source": [
    "# 2\n",
    "print('Mary\\'s Cosmetics')"
   ]
  },
  {
   "cell_type": "code",
   "execution_count": 13,
   "id": "d403a7d3",
   "metadata": {},
   "outputs": [
    {
     "name": "stdout",
     "output_type": "stream",
     "text": [
      "신씨가 소리질렀다. \"도둑이야\"\n"
     ]
    }
   ],
   "source": [
    "# 3\n",
    "print('신씨가 소리질렀다. \"도둑이야\"')"
   ]
  },
  {
   "cell_type": "code",
   "execution_count": 12,
   "id": "6379a36f",
   "metadata": {},
   "outputs": [
    {
     "name": "stdout",
     "output_type": "stream",
     "text": [
      "\"C:\"Windows\"\n"
     ]
    }
   ],
   "source": [
    "# 4\n",
    "print('\"C:\\\"Windows\"')"
   ]
  },
  {
   "cell_type": "code",
   "execution_count": 14,
   "id": "015022ae",
   "metadata": {},
   "outputs": [
    {
     "name": "stdout",
     "output_type": "stream",
     "text": [
      "안녕하세요\n",
      "만나서\t\t반갑습니다\n"
     ]
    }
   ],
   "source": [
    "# 5\n",
    "print('안녕하세요\\n만나서\\t\\t반갑습니다')"
   ]
  },
  {
   "cell_type": "code",
   "execution_count": 15,
   "id": "f4fca7b0",
   "metadata": {},
   "outputs": [
    {
     "name": "stdout",
     "output_type": "stream",
     "text": [
      "오늘은 일요일\n"
     ]
    }
   ],
   "source": [
    "# 6\n",
    "print('오늘은', '일요일')"
   ]
  },
  {
   "cell_type": "code",
   "execution_count": 16,
   "id": "0afebf14",
   "metadata": {},
   "outputs": [
    {
     "name": "stdout",
     "output_type": "stream",
     "text": [
      "naver;kakao;sk;samsung\n"
     ]
    }
   ],
   "source": [
    "# 7\n",
    "print('naver;kakao;sk;samsung')"
   ]
  },
  {
   "cell_type": "code",
   "execution_count": 17,
   "id": "bc71471f",
   "metadata": {},
   "outputs": [
    {
     "name": "stdout",
     "output_type": "stream",
     "text": [
      "naver/kakao/sk/samsung\n"
     ]
    }
   ],
   "source": [
    "# 8\n",
    "print('naver/kakao/sk/samsung')"
   ]
  },
  {
   "cell_type": "code",
   "execution_count": 52,
   "id": "6e435c2f",
   "metadata": {},
   "outputs": [
    {
     "name": "stdout",
     "output_type": "stream",
     "text": [
      "first second\n"
     ]
    }
   ],
   "source": [
    "# 9\n",
    "print('first', end=\" \");print('second')"
   ]
  },
  {
   "cell_type": "code",
   "execution_count": 22,
   "id": "cf6c397e",
   "metadata": {},
   "outputs": [
    {
     "name": "stdout",
     "output_type": "stream",
     "text": [
      "1.6666666666666667\n"
     ]
    }
   ],
   "source": [
    "# 10\n",
    "print(5/3)"
   ]
  },
  {
   "cell_type": "code",
   "execution_count": 23,
   "id": "0f04533c",
   "metadata": {},
   "outputs": [
    {
     "name": "stdout",
     "output_type": "stream",
     "text": [
      "500000\n"
     ]
    }
   ],
   "source": [
    "# 11\n",
    "삼성전자 = 50000\n",
    "총평가금액 = 삼성전자 * 10\n",
    "\n",
    "print(총평가금액)"
   ]
  },
  {
   "cell_type": "code",
   "execution_count": 25,
   "id": "1b5d2306",
   "metadata": {},
   "outputs": [
    {
     "name": "stdout",
     "output_type": "stream",
     "text": [
      "298000000000000 <class 'int'>\n",
      "50000 <class 'int'>\n",
      "15.79 <class 'float'>\n"
     ]
    }
   ],
   "source": [
    "# 12\n",
    "시가총액 = 298000000000000\n",
    "현재가 = 50000\n",
    "PER = 15.79\n",
    "print(시가총액, type(시가총액))\n",
    "print(현재가, type(현재가))\n",
    "print(PER, type(PER))"
   ]
  },
  {
   "cell_type": "code",
   "execution_count": 33,
   "id": "8d737c8a",
   "metadata": {},
   "outputs": [
    {
     "name": "stdout",
     "output_type": "stream",
     "text": [
      "hello! python\n"
     ]
    }
   ],
   "source": [
    "# 13\n",
    "s = 'hello'\n",
    "t = 'python'\n",
    "\n",
    "print(s+'!', t)"
   ]
  },
  {
   "cell_type": "code",
   "execution_count": 36,
   "id": "8d5b8336",
   "metadata": {},
   "outputs": [
    {
     "name": "stdout",
     "output_type": "stream",
     "text": [
      "8\n"
     ]
    }
   ],
   "source": [
    "# 14\n",
    "print(2 + 2 * 3)"
   ]
  },
  {
   "cell_type": "code",
   "execution_count": 35,
   "id": "8e2f0814",
   "metadata": {},
   "outputs": [
    {
     "name": "stdout",
     "output_type": "stream",
     "text": [
      "<class 'int'>\n"
     ]
    }
   ],
   "source": [
    "# 15\n",
    "a = 132\n",
    "print(type(a))"
   ]
  },
  {
   "cell_type": "code",
   "execution_count": 42,
   "id": "72acf7bb",
   "metadata": {},
   "outputs": [
    {
     "name": "stdout",
     "output_type": "stream",
     "text": [
      "<class 'int'>\n"
     ]
    }
   ],
   "source": [
    "# 16\n",
    "num_str = \"720\"\n",
    "print(type(int(num_str)))"
   ]
  },
  {
   "cell_type": "code",
   "execution_count": 41,
   "id": "b32151d8",
   "metadata": {},
   "outputs": [
    {
     "name": "stdout",
     "output_type": "stream",
     "text": [
      "<class 'str'>\n"
     ]
    }
   ],
   "source": [
    "# 17\n",
    "num = 100\n",
    "print(type(str(num)))"
   ]
  },
  {
   "cell_type": "code",
   "execution_count": 43,
   "id": "b9b9e335",
   "metadata": {},
   "outputs": [
    {
     "name": "stdout",
     "output_type": "stream",
     "text": [
      "<class 'float'>\n"
     ]
    }
   ],
   "source": [
    "# 18\n",
    "x = \"15.79\"\n",
    "\n",
    "print(type(float(x)))"
   ]
  },
  {
   "cell_type": "code",
   "execution_count": 44,
   "id": "b180b720",
   "metadata": {},
   "outputs": [
    {
     "name": "stdout",
     "output_type": "stream",
     "text": [
      "2021 2022 2023\n"
     ]
    }
   ],
   "source": [
    "# 19\n",
    "year = \"2020\"\n",
    "\n",
    "int_year = int(year)\n",
    "\n",
    "print(int_year+1, int_year+2, int_year+3)"
   ]
  },
  {
   "cell_type": "code",
   "execution_count": 51,
   "id": "0dbb3c70",
   "metadata": {},
   "outputs": [
    {
     "name": "stdout",
     "output_type": "stream",
     "text": [
      "1749024\n"
     ]
    }
   ],
   "source": [
    "# 20\n",
    "월 = 48584\n",
    "\n",
    "총금액 = 월 * 36\n",
    "\n",
    "print(총금액)"
   ]
  },
  {
   "cell_type": "code",
   "execution_count": 4,
   "id": "c4706e30",
   "metadata": {},
   "outputs": [
    {
     "name": "stdout",
     "output_type": "stream",
     "text": [
      "p t\n"
     ]
    }
   ],
   "source": [
    "# 21\n",
    "\n",
    "letters = 'python'\n",
    "\n",
    "print(letters[0], letters[2])"
   ]
  },
  {
   "cell_type": "code",
   "execution_count": 3,
   "id": "4298d3e7",
   "metadata": {},
   "outputs": [
    {
     "name": "stdout",
     "output_type": "stream",
     "text": [
      "2210\n"
     ]
    }
   ],
   "source": [
    "# 22\n",
    "\n",
    "license_plate = '24가 2210'\n",
    "\n",
    "print(license_plate[-4:])  # 슬라이싱!! 꼭 n-1부터 뺄 필요는 없다 ㅠㅠ"
   ]
  },
  {
   "cell_type": "code",
   "execution_count": 8,
   "id": "408a574b",
   "metadata": {},
   "outputs": [
    {
     "name": "stdout",
     "output_type": "stream",
     "text": [
      "홀홀홀\n"
     ]
    }
   ],
   "source": [
    "# 23\n",
    "\n",
    "str = '홀짝홀짝홀짝'\n",
    "\n",
    "print(str[0:len(str) - 1:2])"
   ]
  },
  {
   "cell_type": "code",
   "execution_count": 17,
   "id": "52d6f433",
   "metadata": {},
   "outputs": [
    {
     "name": "stdout",
     "output_type": "stream",
     "text": [
      "NOHTYP\n",
      "N\n"
     ]
    }
   ],
   "source": [
    "# 24\n",
    "\n",
    "str = 'PYTHON'\n",
    "\n",
    "print(str[::-1])  # 슬라이싱 거꾸로 하는 [::-1] 외우기 ㅠㅠㅠㅠ\n",
    "\n",
    "print(str[-1])  # 인덱스 제일 마지막은 [-1] 이용!!! "
   ]
  },
  {
   "cell_type": "code",
   "execution_count": 13,
   "id": "5d963121",
   "metadata": {},
   "outputs": [
    {
     "name": "stdout",
     "output_type": "stream",
     "text": [
      "010 1234 5678\n"
     ]
    }
   ],
   "source": [
    "# 25\n",
    "\n",
    "phone_number = \"010-1234-5678\"\n",
    "\n",
    "print(phone_number.replace(\"-\", \" \"))"
   ]
  },
  {
   "cell_type": "code",
   "execution_count": 14,
   "id": "91fd5ca4",
   "metadata": {},
   "outputs": [
    {
     "name": "stdout",
     "output_type": "stream",
     "text": [
      "01012345678\n"
     ]
    }
   ],
   "source": [
    "# 26\n",
    "\n",
    "print(phone_number.replace(\"-\", \"\"))"
   ]
  },
  {
   "cell_type": "code",
   "execution_count": 18,
   "id": "8d53c0cb",
   "metadata": {},
   "outputs": [
    {
     "name": "stdout",
     "output_type": "stream",
     "text": [
      "com\n"
     ]
    }
   ],
   "source": [
    "# 27\n",
    "\n",
    "url = \"http://naver.com\"\n",
    "\n",
    "url_split = url.split('.')\n",
    "\n",
    "print(url_split[-1])"
   ]
  },
  {
   "cell_type": "code",
   "execution_count": 20,
   "id": "54848ff0",
   "metadata": {},
   "outputs": [
    {
     "ename": "SyntaxError",
     "evalue": "invalid syntax (873057693.py, line 5)",
     "output_type": "error",
     "traceback": [
      "\u001b[0;36m  Cell \u001b[0;32mIn[20], line 5\u001b[0;36m\u001b[0m\n\u001b[0;31m    lang[0] = 'P'. # 변경 지원하지 않음! immutable 하기 때문에.\u001b[0m\n\u001b[0m                   ^\u001b[0m\n\u001b[0;31mSyntaxError\u001b[0m\u001b[0;31m:\u001b[0m invalid syntax\n"
     ]
    }
   ],
   "source": [
    "# 28\n",
    "\n",
    "lang = 'python'\n",
    "\n",
    "lang[0] = 'P'. # 변경 지원하지 않음! immutable 하기 때문에.\n",
    "\n",
    "print(lang)"
   ]
  },
  {
   "cell_type": "code",
   "execution_count": 21,
   "id": "0a934df9",
   "metadata": {},
   "outputs": [
    {
     "name": "stdout",
     "output_type": "stream",
     "text": [
      "Abcdfe2A354A32A\n"
     ]
    }
   ],
   "source": [
    "# 29\n",
    "\n",
    "string = 'abcdfe2a354a32a'\n",
    "\n",
    "str_replaced = string.replace('a', 'A')  # 새로운 변수 지정. \n",
    "\n",
    "print(str_replaced)"
   ]
  },
  {
   "cell_type": "code",
   "execution_count": 22,
   "id": "fbd945b7",
   "metadata": {},
   "outputs": [
    {
     "name": "stdout",
     "output_type": "stream",
     "text": [
      "abcd\n"
     ]
    }
   ],
   "source": [
    "# 30 \n",
    "\n",
    "string = 'abcd'\n",
    "string.replace('b', 'B')  # 새로운 변수를 설정해서 바꿔주지 않으면 변경되지 않는다!! 문자열은 기본적으로 변경 불가능 (immutable)하다.\n",
    "print(string)"
   ]
  },
  {
   "cell_type": "code",
   "execution_count": 24,
   "id": "135219cf",
   "metadata": {},
   "outputs": [
    {
     "name": "stdout",
     "output_type": "stream",
     "text": [
      "34\n"
     ]
    }
   ],
   "source": [
    "# 31\n",
    "\n",
    "a = '3'\n",
    "b = '4'\n",
    "print(a + b)"
   ]
  },
  {
   "cell_type": "code",
   "execution_count": 26,
   "id": "9a873bb4",
   "metadata": {},
   "outputs": [
    {
     "name": "stdout",
     "output_type": "stream",
     "text": [
      "Hi!Hi!Hi!\n"
     ]
    }
   ],
   "source": [
    "# 32\n",
    "\n",
    "print('Hi!' * 3)"
   ]
  },
  {
   "cell_type": "code",
   "execution_count": 27,
   "id": "96f72233",
   "metadata": {},
   "outputs": [
    {
     "name": "stdout",
     "output_type": "stream",
     "text": [
      "--------------------------------------------------------------------------------\n"
     ]
    }
   ],
   "source": [
    "# 33\n",
    "\n",
    "print('-' * 80)"
   ]
  },
  {
   "cell_type": "code",
   "execution_count": 34,
   "id": "54e7685c",
   "metadata": {},
   "outputs": [
    {
     "name": "stdout",
     "output_type": "stream",
     "text": [
      "python java python java python java \n"
     ]
    }
   ],
   "source": [
    "# 34\n",
    "\n",
    "t1 = 'python'\n",
    "t2 = 'java'\n",
    "\n",
    "t3 = t1 + ' ' + t2 + ' '\n",
    "\n",
    "print(t3 * 3)"
   ]
  },
  {
   "cell_type": "code",
   "execution_count": 36,
   "id": "459d3ec7",
   "metadata": {},
   "outputs": [
    {
     "name": "stdout",
     "output_type": "stream",
     "text": [
      "이름 : 김민수, 나이 : 10\n",
      "이름 : 이철희, 나이 : 13\n"
     ]
    }
   ],
   "source": [
    "# 35\n",
    "\n",
    "# `%s`는 문자열 데이터 타입의 값을 `%d`는 정수형 데이터 타입 값의 출력을 의미 -> print % formatting 사용\n",
    "\n",
    "name1 = \"김민수\" \n",
    "age1 = 10\n",
    "name2 = \"이철희\"\n",
    "age2 = 13\n",
    "\n",
    "print('이름 : %s, 나이 : %d' % (name1, age1))\n",
    "print('이름 : %s, 나이 : %d' % (name2, age2))"
   ]
  },
  {
   "cell_type": "code",
   "execution_count": 37,
   "id": "b86bbb66",
   "metadata": {},
   "outputs": [
    {
     "name": "stdout",
     "output_type": "stream",
     "text": [
      "이름 : 김민수, 나이 : 10\n",
      "이름 : 이철희, 나이 : 13\n"
     ]
    }
   ],
   "source": [
    "# 36\n",
    "\n",
    "print('이름 : {}, 나이 : {}'.format(name1, age1))\n",
    "print('이름 : {}, 나이 : {}'.format(name2, age2))"
   ]
  },
  {
   "cell_type": "code",
   "execution_count": 39,
   "id": "a5aa40be",
   "metadata": {},
   "outputs": [
    {
     "name": "stdout",
     "output_type": "stream",
     "text": [
      "이름 : 김민수, 나이 : 10\n",
      "이름 : 이철희, 나이 : 13\n"
     ]
    }
   ],
   "source": [
    "# 37\n",
    "\n",
    "print(f'이름 : {name1}, 나이 : {age1}')\n",
    "print(f'이름 : {name2}, 나이 : {age2}')"
   ]
  },
  {
   "cell_type": "code",
   "execution_count": 42,
   "id": "c17b87d6",
   "metadata": {},
   "outputs": [
    {
     "name": "stdout",
     "output_type": "stream",
     "text": [
      "5969782550\n"
     ]
    }
   ],
   "source": [
    "# 38\n",
    "\n",
    "상장주식수 = \"5,969,782,550\"\n",
    "\n",
    "print(int(상장주식수.replace(',', '')))\n"
   ]
  },
  {
   "cell_type": "code",
   "execution_count": 45,
   "id": "1cf68ae1",
   "metadata": {},
   "outputs": [
    {
     "name": "stdout",
     "output_type": "stream",
     "text": [
      "2020/03\n"
     ]
    }
   ],
   "source": [
    "# 39\n",
    "\n",
    "분기 = \"2020/03(E) (IFRS연결)\"  # 슬라이싱은 **미만**으로 출력!!!!\n",
    "\n",
    "print(분기[0:7])"
   ]
  },
  {
   "cell_type": "code",
   "execution_count": 49,
   "id": "d6e0abbf",
   "metadata": {},
   "outputs": [
    {
     "name": "stdout",
     "output_type": "stream",
     "text": [
      "삼성전자\n"
     ]
    }
   ],
   "source": [
    "# 40\n",
    "\n",
    "data = \"   삼성전자    \"\n",
    "\n",
    "data_removed = data.strip()\n",
    "\n",
    "print(data_removed)\n"
   ]
  },
  {
   "cell_type": "code",
   "execution_count": 50,
   "id": "a66af39e",
   "metadata": {},
   "outputs": [
    {
     "name": "stdout",
     "output_type": "stream",
     "text": [
      "BTC_KRW\n"
     ]
    }
   ],
   "source": [
    "# 41\n",
    "\n",
    "ticker = \"btc_krw\"\n",
    "\n",
    "ticker_upper = ticker.upper()\n",
    "\n",
    "print(ticker_upper)"
   ]
  },
  {
   "cell_type": "code",
   "execution_count": 51,
   "id": "49cc1302",
   "metadata": {},
   "outputs": [
    {
     "name": "stdout",
     "output_type": "stream",
     "text": [
      "btc_krw\n"
     ]
    }
   ],
   "source": [
    "# 42\n",
    "\n",
    "ticker_lower = ticker_upper.lower()\n",
    "\n",
    "print(ticker_lower)"
   ]
  },
  {
   "cell_type": "code",
   "execution_count": 60,
   "id": "be9202c0",
   "metadata": {},
   "outputs": [
    {
     "name": "stdout",
     "output_type": "stream",
     "text": [
      "Hello\n"
     ]
    }
   ],
   "source": [
    "# 43\n",
    "\n",
    "a = \"hello\"\n",
    "\n",
    "print(a.capitalize())"
   ]
  },
  {
   "cell_type": "code",
   "execution_count": 64,
   "id": "8b1533f1",
   "metadata": {},
   "outputs": [
    {
     "name": "stdout",
     "output_type": "stream",
     "text": [
      "True\n"
     ]
    }
   ],
   "source": [
    "# 44\n",
    "\n",
    "file_name = \"보고서.xlsx\"\n",
    "\n",
    "print(file_name.endswith('xlsx'))\n"
   ]
  },
  {
   "cell_type": "code",
   "execution_count": 71,
   "id": "ccb659d5",
   "metadata": {},
   "outputs": [
    {
     "name": "stdout",
     "output_type": "stream",
     "text": [
      "True\n"
     ]
    }
   ],
   "source": [
    "# 45\n",
    "\n",
    "file_name = \"보고서.xlsx\"\n",
    "print(file_name.endswith(('xlsx', 'xls')))  # 아마도 여러개를 한번에 확인할 수도 있는듯?"
   ]
  },
  {
   "cell_type": "code",
   "execution_count": 6,
   "id": "e95bee74",
   "metadata": {},
   "outputs": [
    {
     "name": "stdout",
     "output_type": "stream",
     "text": [
      "True\n"
     ]
    }
   ],
   "source": [
    "# 46\n",
    "\n",
    "file_name = \"2020_보고서.xlsx\"\n",
    "\n",
    "print(file_name.startswith('2020'))\n"
   ]
  },
  {
   "cell_type": "code",
   "execution_count": 7,
   "id": "ba7f59ec",
   "metadata": {},
   "outputs": [
    {
     "name": "stdout",
     "output_type": "stream",
     "text": [
      "['hello', 'world']\n"
     ]
    }
   ],
   "source": [
    "# 47\n",
    "\n",
    "a = \"hello world\"\n",
    "\n",
    "print(a.split(' '))"
   ]
  },
  {
   "cell_type": "code",
   "execution_count": 8,
   "id": "7dc6df94",
   "metadata": {},
   "outputs": [
    {
     "name": "stdout",
     "output_type": "stream",
     "text": [
      "['btc', 'krw']\n"
     ]
    }
   ],
   "source": [
    "# 48\n",
    "\n",
    "a = 'btc_krw'\n",
    "\n",
    "print(a.split('_'))"
   ]
  },
  {
   "cell_type": "code",
   "execution_count": 11,
   "id": "ca7beb29",
   "metadata": {},
   "outputs": [
    {
     "name": "stdout",
     "output_type": "stream",
     "text": [
      "2020 05 01\n"
     ]
    }
   ],
   "source": [
    "# 49\n",
    "\n",
    "date = \"2020-05-01\"\n",
    "\n",
    "year = date.split('-')[0]\n",
    "month = date.split('-')[1]\n",
    "d = date.split('-')[2]\n",
    "\n",
    "print(year, month, d)"
   ]
  },
  {
   "cell_type": "code",
   "execution_count": 14,
   "id": "a59c64cb",
   "metadata": {},
   "outputs": [
    {
     "name": "stdout",
     "output_type": "stream",
     "text": [
      "039490\n"
     ]
    }
   ],
   "source": [
    "# 50\n",
    "\n",
    "data = \"039490     \"\n",
    "\n",
    "data_stripped = data.rstrip(' ')\n",
    "\n",
    "print(data_stripped)"
   ]
  },
  {
   "cell_type": "code",
   "execution_count": 2,
   "id": "eada4fc9",
   "metadata": {},
   "outputs": [
    {
     "name": "stdout",
     "output_type": "stream",
     "text": [
      "['닥터 스트레인지', '스플릿', '럭키']\n"
     ]
    }
   ],
   "source": [
    "# 51\n",
    "\n",
    "movie_rank = ['닥터 스트레인지', '스플릿', '럭키']\n",
    "\n",
    "print(movie_rank)"
   ]
  },
  {
   "cell_type": "code",
   "execution_count": 22,
   "id": "81f7a5bb",
   "metadata": {},
   "outputs": [
    {
     "name": "stdout",
     "output_type": "stream",
     "text": [
      "['닥터 스트레인지', '스플릿', '럭키', '배트맨']\n"
     ]
    }
   ],
   "source": [
    "# 52\n",
    "movie_rank = ['닥터 스트레인지', '스플릿', '럭키']\n",
    "\n",
    "movie_rank.append('배트맨')\n",
    "\n",
    "print(movie_rank)"
   ]
  },
  {
   "cell_type": "code",
   "execution_count": 24,
   "id": "2ee12208",
   "metadata": {},
   "outputs": [
    {
     "name": "stdout",
     "output_type": "stream",
     "text": [
      "['닥터 스트레인지', '배트맨', '스플릿', '럭키']\n"
     ]
    }
   ],
   "source": [
    "# 53\n",
    "\n",
    "movie_rank = ['닥터 스트레인지', '스플릿', '럭키']\n",
    "\n",
    "movie_rank.insert(1, '배트맨')\n",
    "\n",
    "print(movie_rank)"
   ]
  },
  {
   "cell_type": "code",
   "execution_count": 26,
   "id": "d8597167",
   "metadata": {},
   "outputs": [
    {
     "name": "stdout",
     "output_type": "stream",
     "text": [
      "['닥터 스트레인지', '슈퍼맨', '스플릿', '배트맨']\n"
     ]
    }
   ],
   "source": [
    "# 54\n",
    "movie_rank = ['닥터 스트레인지', '슈퍼맨', '스플릿', '럭키', '배트맨']\n",
    "\n",
    "del movie_rank[3]\n",
    "\n",
    "print(movie_rank)"
   ]
  },
  {
   "cell_type": "code",
   "execution_count": 27,
   "id": "815791cd",
   "metadata": {},
   "outputs": [
    {
     "name": "stdout",
     "output_type": "stream",
     "text": [
      "['닥터 스트레인지', '슈퍼맨']\n"
     ]
    }
   ],
   "source": [
    "# 55\n",
    "\n",
    "del movie_rank[2]\n",
    "del movie_rank[2]\n",
    "\n",
    "print(movie_rank)"
   ]
  },
  {
   "cell_type": "code",
   "execution_count": 28,
   "id": "8c83ed6e",
   "metadata": {},
   "outputs": [
    {
     "name": "stdout",
     "output_type": "stream",
     "text": [
      "['C', 'C++', 'JAVA', 'Python', 'Go', 'C#']\n"
     ]
    }
   ],
   "source": [
    "# 56\n",
    "\n",
    "lang1 = [\"C\", \"C++\", \"JAVA\"]\n",
    "lang2 = [\"Python\", \"Go\", \"C#\"]\n",
    "\n",
    "print(lang1 + lang2)"
   ]
  },
  {
   "cell_type": "code",
   "execution_count": 29,
   "id": "e4577dba",
   "metadata": {},
   "outputs": [
    {
     "name": "stdout",
     "output_type": "stream",
     "text": [
      "7\n",
      "1\n"
     ]
    }
   ],
   "source": [
    "# 57\n",
    "\n",
    "nums = [1, 2, 3, 4, 5, 6, 7]\n",
    "\n",
    "print(max(nums))\n",
    "print(min(nums))"
   ]
  },
  {
   "cell_type": "code",
   "execution_count": 30,
   "id": "06763d2b",
   "metadata": {},
   "outputs": [
    {
     "name": "stdout",
     "output_type": "stream",
     "text": [
      "15\n"
     ]
    }
   ],
   "source": [
    "# 58\n",
    "\n",
    "nums = [1, 2, 3, 4, 5]\n",
    "\n",
    "print(sum(nums))"
   ]
  },
  {
   "cell_type": "code",
   "execution_count": 31,
   "id": "6ff2c215",
   "metadata": {},
   "outputs": [
    {
     "name": "stdout",
     "output_type": "stream",
     "text": [
      "12\n"
     ]
    }
   ],
   "source": [
    "# 59\n",
    "\n",
    "cook = [\"피자\", \"김밥\", \"만두\", \"양념치킨\", \"족발\", \"피자\", \"김치만두\", \"쫄면\", \"소시지\", \"라면\", \"팥빙수\", \"김치전\"]\n",
    "\n",
    "print(len(cook))"
   ]
  },
  {
   "cell_type": "code",
   "execution_count": 32,
   "id": "454fcc6b",
   "metadata": {},
   "outputs": [
    {
     "name": "stdout",
     "output_type": "stream",
     "text": [
      "3.0\n"
     ]
    }
   ],
   "source": [
    "# 60\n",
    "\n",
    "nums = [1, 2, 3, 4, 5]\n",
    "\n",
    "average = sum(nums) / len(nums)\n",
    "\n",
    "print(average)"
   ]
  },
  {
   "cell_type": "code",
   "execution_count": 34,
   "id": "45b26632",
   "metadata": {},
   "outputs": [
    {
     "name": "stdout",
     "output_type": "stream",
     "text": [
      "[100, 130, 140, 150, 160, 170]\n"
     ]
    }
   ],
   "source": [
    "# 61\n",
    "\n",
    "price = ['20180728', 100, 130, 140, 150, 160, 170]\n",
    "\n",
    "print(price[1:])\n",
    "\n",
    "# -1까지라고 쓰면 마지막 인덱스 **미만**까지!!!!\n"
   ]
  },
  {
   "cell_type": "code",
   "execution_count": 36,
   "id": "0bf21535",
   "metadata": {},
   "outputs": [
    {
     "name": "stdout",
     "output_type": "stream",
     "text": [
      "[1, 3, 5, 7, 9]\n"
     ]
    }
   ],
   "source": [
    "# 62\n",
    "\n",
    "nums = [1, 2, 3, 4, 5, 6, 7, 8, 9, 10]\n",
    "\n",
    "print(nums[::2])"
   ]
  },
  {
   "cell_type": "code",
   "execution_count": 37,
   "id": "a88fab4c",
   "metadata": {},
   "outputs": [
    {
     "name": "stdout",
     "output_type": "stream",
     "text": [
      "[2, 4, 6, 8, 10]\n"
     ]
    }
   ],
   "source": [
    "# 63\n",
    "\n",
    "nums = [1, 2, 3, 4, 5, 6, 7, 8, 9, 10]\n",
    "\n",
    "print(nums[1::2])"
   ]
  },
  {
   "cell_type": "code",
   "execution_count": 40,
   "id": "58e1c5ba",
   "metadata": {},
   "outputs": [
    {
     "name": "stdout",
     "output_type": "stream",
     "text": [
      "[5, 4, 3, 2, 1]\n"
     ]
    }
   ],
   "source": [
    "# 64\n",
    "\n",
    "nums = [1, 2, 3, 4, 5]\n",
    "\n",
    "print(nums[::-1])"
   ]
  },
  {
   "cell_type": "code",
   "execution_count": 41,
   "id": "012ac137",
   "metadata": {},
   "outputs": [
    {
     "name": "stdout",
     "output_type": "stream",
     "text": [
      "삼성전자 Naver\n"
     ]
    }
   ],
   "source": [
    "# 65\n",
    "\n",
    "interest = ['삼성전자', 'LG전자', 'Naver']\n",
    "\n",
    "print(interest[0], interest[-1])"
   ]
  },
  {
   "cell_type": "code",
   "execution_count": 46,
   "id": "fc251b39",
   "metadata": {},
   "outputs": [
    {
     "name": "stdout",
     "output_type": "stream",
     "text": [
      "삼성전자 LG전자 Naver SK하이닉스 미래에셋대우\n"
     ]
    }
   ],
   "source": [
    "# 66\n",
    "\n",
    "interest = ['삼성전자', 'LG전자', 'Naver', 'SK하이닉스', '미래에셋대우']\n",
    "\n",
    "print(' '.join(interest))"
   ]
  },
  {
   "cell_type": "code",
   "execution_count": 47,
   "id": "afd4ba11",
   "metadata": {},
   "outputs": [
    {
     "name": "stdout",
     "output_type": "stream",
     "text": [
      "삼성전자/LG전자/Naver/SK하이닉스/미래에셋대우\n"
     ]
    }
   ],
   "source": [
    "# 67\n",
    "\n",
    "interest = ['삼성전자', 'LG전자', 'Naver', 'SK하이닉스', '미래에셋대우']\n",
    "\n",
    "print('/'.join(interest))"
   ]
  },
  {
   "cell_type": "code",
   "execution_count": 48,
   "id": "c3ebdb4a",
   "metadata": {},
   "outputs": [
    {
     "name": "stdout",
     "output_type": "stream",
     "text": [
      "삼성전자\n",
      "LG전자\n",
      "Naver\n",
      "SK하이닉스\n",
      "미래에셋대우\n"
     ]
    }
   ],
   "source": [
    "# 68\n",
    "\n",
    "interest = ['삼성전자', 'LG전자', 'Naver', 'SK하이닉스', '미래에셋대우']\n",
    "\n",
    "print('\\n'.join(interest))"
   ]
  },
  {
   "cell_type": "code",
   "execution_count": 50,
   "id": "b051b977",
   "metadata": {},
   "outputs": [
    {
     "name": "stdout",
     "output_type": "stream",
     "text": [
      "['삼성전자', 'LG전자', 'Naver']\n"
     ]
    }
   ],
   "source": [
    "# 69\n",
    "\n",
    "string = \"삼성전자/LG전자/Naver\"\n",
    "\n",
    "print(string.split('/'))"
   ]
  },
  {
   "cell_type": "code",
   "execution_count": 51,
   "id": "6dab42cd",
   "metadata": {},
   "outputs": [
    {
     "name": "stdout",
     "output_type": "stream",
     "text": [
      "[1, 2, 3, 4, 5, 9, 10]\n"
     ]
    }
   ],
   "source": [
    "# 70\n",
    "\n",
    "data = [2, 4, 3, 1, 5, 10, 9]\n",
    "\n",
    "data.sort()\n",
    "\n",
    "print(data)"
   ]
  },
  {
   "cell_type": "code",
   "execution_count": 52,
   "id": "e071b313",
   "metadata": {},
   "outputs": [
    {
     "name": "stdout",
     "output_type": "stream",
     "text": [
      "<class 'tuple'>\n"
     ]
    }
   ],
   "source": [
    "# 71\n",
    "\n",
    "my_variable = ()\n",
    "\n",
    "print(type(my_variable))"
   ]
  },
  {
   "cell_type": "code",
   "execution_count": 53,
   "id": "15f0ddf0",
   "metadata": {},
   "outputs": [
    {
     "name": "stdout",
     "output_type": "stream",
     "text": [
      "('닥터 스트레인지', '스플릿', '럭키')\n"
     ]
    }
   ],
   "source": [
    "# 72\n",
    "\n",
    "movie_rank = ('닥터 스트레인지', '스플릿', '럭키')\n",
    "\n",
    "print(movie_rank)"
   ]
  },
  {
   "cell_type": "code",
   "execution_count": 54,
   "id": "c23dbae3",
   "metadata": {},
   "outputs": [],
   "source": [
    "# 73\n",
    "\n",
    "my_tuple = (1, )"
   ]
  },
  {
   "cell_type": "code",
   "execution_count": 55,
   "id": "e8c1e9b6",
   "metadata": {},
   "outputs": [],
   "source": [
    "# 74 \n",
    "\n",
    "# tuple은 immutable하기 때문에 변경이 불가능하다."
   ]
  },
  {
   "cell_type": "code",
   "execution_count": null,
   "id": "5ab5f0ff",
   "metadata": {},
   "outputs": [],
   "source": [
    "# 75\n",
    "\n",
    "# tuple"
   ]
  },
  {
   "cell_type": "code",
   "execution_count": 56,
   "id": "bb0f0db9",
   "metadata": {},
   "outputs": [],
   "source": [
    "# 76\n",
    "\n",
    "t = ('A', 'b', 'c')"
   ]
  },
  {
   "cell_type": "code",
   "execution_count": 57,
   "id": "6e9d2b11",
   "metadata": {},
   "outputs": [
    {
     "name": "stdout",
     "output_type": "stream",
     "text": [
      "['삼성전자', 'LG전자', 'SK Hynix']\n"
     ]
    }
   ],
   "source": [
    "# 77\n",
    "\n",
    "interest = ('삼성전자', 'LG전자', 'SK Hynix')\n",
    "\n",
    "print(list(interest))"
   ]
  },
  {
   "cell_type": "code",
   "execution_count": 59,
   "id": "725eb64b",
   "metadata": {},
   "outputs": [
    {
     "name": "stdout",
     "output_type": "stream",
     "text": [
      "('삼성전자', 'LG전자', 'SK Hynix')\n"
     ]
    }
   ],
   "source": [
    "# 78\n",
    "\n",
    "print(tuple(interest))"
   ]
  },
  {
   "cell_type": "code",
   "execution_count": 58,
   "id": "79a1032a",
   "metadata": {},
   "outputs": [
    {
     "name": "stdout",
     "output_type": "stream",
     "text": [
      "apple banana cake\n"
     ]
    }
   ],
   "source": [
    "# 79\n",
    "\n",
    "temp = ('apple', 'banana', 'cake')\n",
    "a, b, c = temp\n",
    "print(a, b, c)\n",
    "\n",
    "# 읭....?? 연산자 없이 왜 실행되지?"
   ]
  },
  {
   "cell_type": "code",
   "execution_count": 63,
   "id": "136b4ced",
   "metadata": {},
   "outputs": [
    {
     "name": "stdout",
     "output_type": "stream",
     "text": [
      "(2, 4, 6, 8, 10, 12, 14, 16, 18, 20, 22, 24, 26, 28, 30, 32, 34, 36, 38, 40, 42, 44, 46, 48, 50, 52, 54, 56, 58, 60, 62, 64, 66, 68, 70, 72, 74, 76, 78, 80, 82, 84, 86, 88, 90, 92, 94, 96, 98)\n"
     ]
    }
   ],
   "source": [
    "# 80\n",
    "\n",
    "print(tuple(range(2,100,2)))"
   ]
  },
  {
   "cell_type": "code",
   "execution_count": 65,
   "id": "2815d21e",
   "metadata": {},
   "outputs": [
    {
     "name": "stdout",
     "output_type": "stream",
     "text": [
      "[8.8, 8.9, 8.7, 9.2, 9.3, 9.7, 9.9, 9.5]\n"
     ]
    }
   ],
   "source": [
    "# 81\n",
    "\n",
    "scores = [8.8, 8.9, 8.7, 9.2, 9.3, 9.7, 9.9, 9.5, 7.8, 9.4]\n",
    "\n",
    "*valid_score, a, b = scores  # 앞의 변수에 패킹을 해도 가능하다..! 마지막만 되는 줄 ㅠㅠ\n",
    "\n",
    "print(valid_score)"
   ]
  },
  {
   "cell_type": "code",
   "execution_count": 67,
   "id": "91d58377",
   "metadata": {},
   "outputs": [
    {
     "name": "stdout",
     "output_type": "stream",
     "text": [
      "[8.7, 9.2, 9.3, 9.7, 9.9, 9.5, 7.8, 9.4]\n"
     ]
    }
   ],
   "source": [
    "# 82\n",
    "\n",
    "scores = [8.8, 8.9, 8.7, 9.2, 9.3, 9.7, 9.9, 9.5, 7.8, 9.4]\n",
    "\n",
    "a, b, *valid_score = scores\n",
    "\n",
    "print(valid_score)\n"
   ]
  },
  {
   "cell_type": "code",
   "execution_count": 68,
   "id": "173bc777",
   "metadata": {},
   "outputs": [
    {
     "name": "stdout",
     "output_type": "stream",
     "text": [
      "[8.9, 8.7, 9.2, 9.3, 9.7, 9.9, 9.5, 7.8]\n"
     ]
    }
   ],
   "source": [
    "# 83\n",
    "\n",
    "scores = [8.8, 8.9, 8.7, 9.2, 9.3, 9.7, 9.9, 9.5, 7.8, 9.4]\n",
    "\n",
    "a, *valid_score, b = scores\n",
    "\n",
    "print(valid_score)"
   ]
  },
  {
   "cell_type": "code",
   "execution_count": 70,
   "id": "7922f4de",
   "metadata": {},
   "outputs": [
    {
     "name": "stdout",
     "output_type": "stream",
     "text": [
      "<class 'dict'>\n"
     ]
    }
   ],
   "source": [
    "# 84\n",
    "\n",
    "temp = {}\n",
    "\n",
    "print(type(temp))"
   ]
  },
  {
   "cell_type": "code",
   "execution_count": 74,
   "id": "e9a8e380",
   "metadata": {},
   "outputs": [
    {
     "name": "stdout",
     "output_type": "stream",
     "text": [
      "{'메로나': 1000, '폴라포': 1200, '빵빠레': 1800}\n"
     ]
    }
   ],
   "source": [
    "# 85\n",
    "\n",
    "icecream = {'메로나': 1000, '폴라포': 1200, '빵빠레': 1800}\n",
    "\n",
    "print(icecream)"
   ]
  },
  {
   "cell_type": "code",
   "execution_count": 75,
   "id": "7d834923",
   "metadata": {},
   "outputs": [
    {
     "name": "stdout",
     "output_type": "stream",
     "text": [
      "{'메로나': 1000, '폴라포': 1200, '빵빠레': 1800, '죠스바': 1200, '월드콘': 1500}\n"
     ]
    }
   ],
   "source": [
    "# 86\n",
    "\n",
    "icecream['죠스바'] = 1200\n",
    "icecream['월드콘'] = 1500\n",
    "\n",
    "print(icecream)"
   ]
  },
  {
   "cell_type": "code",
   "execution_count": 84,
   "id": "367243a1",
   "metadata": {},
   "outputs": [
    {
     "name": "stdout",
     "output_type": "stream",
     "text": [
      "메로나 가격 : 1000\n"
     ]
    }
   ],
   "source": [
    "# 87\n",
    "\n",
    "ice = {'메로나': 1000,\n",
    "       '폴로포': 1200,\n",
    "       '빵빠레': 1800,\n",
    "       '죠스바': 1200,\n",
    "       '월드콘': 1500}\n",
    "\n",
    "\n",
    "print('메로나 가격 :', ice['메로나'])"
   ]
  },
  {
   "cell_type": "code",
   "execution_count": 86,
   "id": "a4f0e6f3",
   "metadata": {},
   "outputs": [
    {
     "name": "stdout",
     "output_type": "stream",
     "text": [
      "{'메로나': '1300', '폴로포': 1200, '빵빠레': 1800, '죠스바': 1200, '월드콘': 1500}\n"
     ]
    }
   ],
   "source": [
    "# 88\n",
    "\n",
    "ice['메로나'] = '1300'\n",
    "\n",
    "print(ice)"
   ]
  },
  {
   "cell_type": "code",
   "execution_count": 87,
   "id": "caa4877a",
   "metadata": {},
   "outputs": [
    {
     "name": "stdout",
     "output_type": "stream",
     "text": [
      "{'폴로포': 1200, '빵빠레': 1800, '죠스바': 1200, '월드콘': 1500}\n"
     ]
    }
   ],
   "source": [
    "# 89\n",
    "\n",
    "ice.pop('메로나')\n",
    "\n",
    "# del ice['메로나']\n",
    "\n",
    "print(ice)"
   ]
  },
  {
   "cell_type": "code",
   "execution_count": null,
   "id": "6437e56b",
   "metadata": {},
   "outputs": [],
   "source": [
    "# 90\n",
    "\n",
    "'누가바' 라는 key 값이 존재하지 않기 때문."
   ]
  },
  {
   "cell_type": "code",
   "execution_count": 88,
   "id": "9933cbf6",
   "metadata": {},
   "outputs": [
    {
     "name": "stdout",
     "output_type": "stream",
     "text": [
      "{'메로나': [300, 20], '비비빅': [400, 3], '죠스바': [250, 150]}\n"
     ]
    }
   ],
   "source": [
    "# 91\n",
    "\n",
    "inventory = {'메로나': [300, 20], '비비빅': [400, 3], '죠스바': [250, 150]}\n",
    "\n",
    "print(inventory)"
   ]
  },
  {
   "cell_type": "code",
   "execution_count": 89,
   "id": "a667e1b1",
   "metadata": {},
   "outputs": [
    {
     "name": "stdout",
     "output_type": "stream",
     "text": [
      "300 원\n"
     ]
    }
   ],
   "source": [
    "# 92\n",
    "\n",
    "print(inventory['메로나'][0], '원')"
   ]
  },
  {
   "cell_type": "code",
   "execution_count": 90,
   "id": "3d035d96",
   "metadata": {},
   "outputs": [
    {
     "name": "stdout",
     "output_type": "stream",
     "text": [
      "20 개\n"
     ]
    }
   ],
   "source": [
    "# 93\n",
    "\n",
    "print(inventory['메로나'][1], '개')"
   ]
  },
  {
   "cell_type": "code",
   "execution_count": 93,
   "id": "45b6fc3a",
   "metadata": {},
   "outputs": [
    {
     "name": "stdout",
     "output_type": "stream",
     "text": [
      "{'메로나': [300, 20], '비비빅': [400, 3], '죠스바': [250, 150], '월드콘': [500, 7]}\n"
     ]
    }
   ],
   "source": [
    "# 94\n",
    "\n",
    "inventory['월드콘'] = [500, 7]\n",
    "\n",
    "print(inventory)"
   ]
  },
  {
   "cell_type": "code",
   "execution_count": 95,
   "id": "4dd90ae6",
   "metadata": {},
   "outputs": [
    {
     "data": {
      "text/plain": [
       "['메로나', '비비빅', '죠스바', '월드콘']"
      ]
     },
     "execution_count": 95,
     "metadata": {},
     "output_type": "execute_result"
    }
   ],
   "source": [
    "# 95\n",
    "\n",
    "list(inventory.keys())"
   ]
  },
  {
   "cell_type": "code",
   "execution_count": 97,
   "id": "814a374c",
   "metadata": {},
   "outputs": [
    {
     "name": "stdout",
     "output_type": "stream",
     "text": [
      "[[300, 20], [400, 3], [250, 150], [500, 7]]\n"
     ]
    }
   ],
   "source": [
    "# 96\n",
    "\n",
    "x = list(inventory.values())\n",
    "print(x)"
   ]
  },
  {
   "cell_type": "code",
   "execution_count": 102,
   "id": "f4a66642",
   "metadata": {},
   "outputs": [
    {
     "name": "stdout",
     "output_type": "stream",
     "text": [
      "6700\n"
     ]
    }
   ],
   "source": [
    "# 97\n",
    "\n",
    "icecream = {'탱크보이': 1200, '폴라포': 1200, '빵빠레': 1800, '월드콘': 1500, '메로나': 1000}\n",
    "print(sum(icecream.values()))"
   ]
  },
  {
   "cell_type": "code",
   "execution_count": 104,
   "id": "35bf3973",
   "metadata": {},
   "outputs": [
    {
     "name": "stdout",
     "output_type": "stream",
     "text": [
      "{'탱크보이': 1200, '폴라포': 1200, '빵빠레': 1800, '월드콘': 1500, '메로나': 1000, '팥빙수': 2700, '아맛나': 1000}\n"
     ]
    }
   ],
   "source": [
    "# 98\n",
    "\n",
    "icecream = {'탱크보이': 1200, '폴라포': 1200, '빵빠레': 1800, '월드콘': 1500, '메로나': 1000}\n",
    "new_product = {'팥빙수':2700, '아맛나':1000}\n",
    "\n",
    "icecream.update(new_product)\n",
    "\n",
    "print(icecream)"
   ]
  },
  {
   "cell_type": "code",
   "execution_count": 2,
   "id": "1a1842c5",
   "metadata": {},
   "outputs": [
    {
     "name": "stdout",
     "output_type": "stream",
     "text": [
      "{'apple': 300, 'pear': 250, 'peach': 400}\n"
     ]
    }
   ],
   "source": [
    "# 99\n",
    "\n",
    "keys = (\"apple\", \"pear\", \"peach\")\n",
    "vals = (300, 250, 400)\n",
    "result = dict(zip(keys, vals))\n",
    "print(result)"
   ]
  },
  {
   "cell_type": "code",
   "execution_count": 3,
   "id": "35f6e47a",
   "metadata": {},
   "outputs": [
    {
     "name": "stdout",
     "output_type": "stream",
     "text": [
      "{'09/05': 10500, '09/06': 10300, '09/07': 10100, '09/08': 10800, '09/09': 11000}\n"
     ]
    }
   ],
   "source": [
    "# 100\n",
    "\n",
    "date = ['09/05', '09/06', '09/07', '09/08', '09/09']\n",
    "close_price = [10500, 10300, 10100, 10800, 11000]\n",
    "\n",
    "close_table = dict(zip(date, close_price))\n",
    "\n",
    "print(close_table)"
   ]
  },
  {
   "cell_type": "code",
   "execution_count": 19,
   "id": "f981c2b5",
   "metadata": {},
   "outputs": [],
   "source": [
    "# 101\n",
    "\n",
    "bool type이다.\n",
    "\n"
   ]
  },
  {
   "cell_type": "code",
   "execution_count": 20,
   "id": "64f6dad5",
   "metadata": {},
   "outputs": [
    {
     "data": {
      "text/plain": [
       "False"
      ]
     },
     "execution_count": 20,
     "metadata": {},
     "output_type": "execute_result"
    }
   ],
   "source": [
    "# 102\n",
    "\n",
    "False \n",
    "\n"
   ]
  },
  {
   "cell_type": "code",
   "execution_count": 21,
   "id": "75ff1c9b",
   "metadata": {},
   "outputs": [
    {
     "data": {
      "text/plain": [
       "True"
      ]
     },
     "execution_count": 21,
     "metadata": {},
     "output_type": "execute_result"
    }
   ],
   "source": [
    "# 103\n",
    "\n",
    "True"
   ]
  },
  {
   "cell_type": "code",
   "execution_count": 22,
   "id": "71c94edd",
   "metadata": {},
   "outputs": [
    {
     "data": {
      "text/plain": [
       "True"
      ]
     },
     "execution_count": 22,
     "metadata": {},
     "output_type": "execute_result"
    }
   ],
   "source": [
    "# 104\n",
    "\n",
    "True"
   ]
  },
  {
   "cell_type": "code",
   "execution_count": 23,
   "id": "dfad7261",
   "metadata": {},
   "outputs": [
    {
     "data": {
      "text/plain": [
       "True"
      ]
     },
     "execution_count": 23,
     "metadata": {},
     "output_type": "execute_result"
    }
   ],
   "source": [
    "# 105\n",
    "\n",
    "True"
   ]
  },
  {
   "cell_type": "code",
   "execution_count": 24,
   "id": "3ddb752f",
   "metadata": {},
   "outputs": [
    {
     "ename": "SyntaxError",
     "evalue": "invalid syntax (959349633.py, line 3)",
     "output_type": "error",
     "traceback": [
      "\u001b[0;36m  Cell \u001b[0;32mIn[24], line 3\u001b[0;36m\u001b[0m\n\u001b[0;31m    invalid syntax >\u001b[0m\n\u001b[0m            ^\u001b[0m\n\u001b[0;31mSyntaxError\u001b[0m\u001b[0;31m:\u001b[0m invalid syntax\n"
     ]
    }
   ],
   "source": [
    "# 106\n",
    "\n",
    "invalid syntax >"
   ]
  },
  {
   "cell_type": "code",
   "execution_count": 25,
   "id": "4fe57def",
   "metadata": {},
   "outputs": [
    {
     "ename": "SyntaxError",
     "evalue": "invalid syntax (4121825749.py, line 3)",
     "output_type": "error",
     "traceback": [
      "\u001b[0;36m  Cell \u001b[0;32mIn[25], line 3\u001b[0;36m\u001b[0m\n\u001b[0;31m    아무것도 출력되지 않는다.\u001b[0m\n\u001b[0m         ^\u001b[0m\n\u001b[0;31mSyntaxError\u001b[0m\u001b[0;31m:\u001b[0m invalid syntax\n"
     ]
    }
   ],
   "source": [
    "# 107\n",
    "\n",
    "아무것도 출력되지 않는다. "
   ]
  },
  {
   "cell_type": "code",
   "execution_count": 26,
   "id": "4a9c7cf0",
   "metadata": {},
   "outputs": [
    {
     "ename": "NameError",
     "evalue": "name 'Hi' is not defined",
     "output_type": "error",
     "traceback": [
      "\u001b[0;31m---------------------------------------------------------------------------\u001b[0m",
      "\u001b[0;31mNameError\u001b[0m                                 Traceback (most recent call last)",
      "Cell \u001b[0;32mIn[26], line 3\u001b[0m\n\u001b[1;32m      1\u001b[0m \u001b[38;5;66;03m# 108\u001b[39;00m\n\u001b[0;32m----> 3\u001b[0m \u001b[43mHi\u001b[49m, there\n",
      "\u001b[0;31mNameError\u001b[0m: name 'Hi' is not defined"
     ]
    }
   ],
   "source": [
    "# 108\n",
    "\n",
    "Hi, there"
   ]
  },
  {
   "cell_type": "code",
   "execution_count": 29,
   "id": "e911e935",
   "metadata": {},
   "outputs": [
    {
     "data": {
      "text/plain": [
       "4"
      ]
     },
     "execution_count": 29,
     "metadata": {},
     "output_type": "execute_result"
    }
   ],
   "source": [
    "# 109\n",
    "\n",
    "1\n",
    "2\n",
    "4"
   ]
  },
  {
   "cell_type": "code",
   "execution_count": 30,
   "id": "22430fa7",
   "metadata": {},
   "outputs": [
    {
     "ename": "SyntaxError",
     "evalue": "invalid syntax (3502771750.py, line 3)",
     "output_type": "error",
     "traceback": [
      "\u001b[0;36m  Cell \u001b[0;32mIn[30], line 3\u001b[0;36m\u001b[0m\n\u001b[0;31m    3 5\u001b[0m\n\u001b[0m      ^\u001b[0m\n\u001b[0;31mSyntaxError\u001b[0m\u001b[0;31m:\u001b[0m invalid syntax\n"
     ]
    }
   ],
   "source": [
    "# 110\n",
    "\n",
    "3 5"
   ]
  },
  {
   "cell_type": "code",
   "execution_count": 2,
   "id": "271766fe",
   "metadata": {},
   "outputs": [
    {
     "name": "stdout",
     "output_type": "stream",
     "text": [
      "문자열을 입력하세요 : 안녕\n",
      "안녕안녕\n"
     ]
    }
   ],
   "source": [
    "# 111\n",
    "\n",
    "print(input('문자열을 입력하세요 : ') * 2)\n"
   ]
  },
  {
   "cell_type": "code",
   "execution_count": 4,
   "id": "3d8fbeb2",
   "metadata": {},
   "outputs": [
    {
     "name": "stdout",
     "output_type": "stream",
     "text": [
      "숫자를 입력하세요 : 59\n",
      "69\n"
     ]
    }
   ],
   "source": [
    "# 112\n",
    "\n",
    "x = input('숫자를 입력하세요 : ')\n",
    "\n",
    "print(int(x) + 10)"
   ]
  },
  {
   "cell_type": "code",
   "execution_count": 6,
   "id": "205d330c",
   "metadata": {},
   "outputs": [
    {
     "name": "stdout",
     "output_type": "stream",
     "text": [
      "숫자를 입력하세요 : 59\n",
      "홀수\n"
     ]
    }
   ],
   "source": [
    "# 113\n",
    "\n",
    "x = int(input('숫자를 입력하세요 : '))\n",
    "\n",
    "if x % 2:\n",
    "    print('홀수')\n",
    "else:\n",
    "    print('짝수')"
   ]
  },
  {
   "cell_type": "code",
   "execution_count": 7,
   "id": "7227a3c9",
   "metadata": {},
   "outputs": [
    {
     "name": "stdout",
     "output_type": "stream",
     "text": [
      "숫자를 입력하세요 : 250\n",
      "255\n"
     ]
    }
   ],
   "source": [
    "# 114\n",
    "\n",
    "x = int(input('숫자를 입력하세요 : ')) + 20\n",
    "\n",
    "if x <= 255:\n",
    "    print(x)\n",
    "else:\n",
    "    print(255)"
   ]
  },
  {
   "cell_type": "code",
   "execution_count": 8,
   "id": "7bfca151",
   "metadata": {},
   "outputs": [
    {
     "name": "stdout",
     "output_type": "stream",
     "text": [
      "숫자를 입력하세요 : -1\n",
      "0\n"
     ]
    }
   ],
   "source": [
    "# 115 \n",
    "\n",
    "x = int(input('숫자를 입력하세요 : ')) - 20\n",
    "\n",
    "if x < 0:\n",
    "    print(0)\n",
    "elif x > 255:\n",
    "    print(255)\n",
    "else:\n",
    "    print(x)\n"
   ]
  },
  {
   "cell_type": "code",
   "execution_count": 30,
   "id": "da3c90d4",
   "metadata": {},
   "outputs": [
    {
     "name": "stdout",
     "output_type": "stream",
     "text": [
      "시간을 입력하세요 : 12:12\n",
      "정각이 아닙니다\n"
     ]
    }
   ],
   "source": [
    "# 116\n",
    "\n",
    "time = input('시간을 입력하세요 : ')\n",
    "\n",
    "if time[-1:-3:-1] == '00':  # 그냥 time[-2:] 를 하면 된다.... ㅎㅎ.....\n",
    "    print('정각입니다')\n",
    "else:\n",
    "    print('정각이 아닙니다')"
   ]
  },
  {
   "cell_type": "code",
   "execution_count": 32,
   "id": "645ce829",
   "metadata": {},
   "outputs": [
    {
     "name": "stdout",
     "output_type": "stream",
     "text": [
      "좋아하는 과일은? 복숭아\n",
      "정답이 아닙니다\n"
     ]
    }
   ],
   "source": [
    "# 117\n",
    "\n",
    "fruit = [\"사과\", \"포도\", \"홍시\"]\n",
    "\n",
    "favorite_fruit = input('좋아하는 과일은? ')\n",
    "\n",
    "if favorite_fruit in fruit:\n",
    "    print('정답입니다')\n",
    "else:\n",
    "    print('정답이 아닙니다')"
   ]
  },
  {
   "cell_type": "code",
   "execution_count": 34,
   "id": "f95b1059",
   "metadata": {},
   "outputs": [
    {
     "name": "stdout",
     "output_type": "stream",
     "text": [
      "투자 종목을 입력하세요: nokia\n",
      "투자 경고 종목이 아닙니다\n"
     ]
    }
   ],
   "source": [
    "# 118\n",
    "\n",
    "warn_investment_list = [\"Microsoft\", \"Google\", \"Naver\", \"Kakao\", \"SAMSUNG\", \"LG\"]\n",
    "\n",
    "user_investment = input('투자 종목을 입력하세요: ')\n",
    "\n",
    "# if user_investment in warn_investment_list:\n",
    "#     print('투자 경고 종목입니다.')\n",
    "# else:\n",
    "#     print('투자 경고 종목이 아닙니다.')\n",
    "    \n",
    "print('투자 경고 종목입니다') if user_investment in warn_investment_list else print('투자 경고 종목이 아닙니다')"
   ]
  },
  {
   "cell_type": "code",
   "execution_count": 36,
   "id": "bb6dd998",
   "metadata": {},
   "outputs": [
    {
     "name": "stdout",
     "output_type": "stream",
     "text": [
      "제가 좋아하는 계절은 : 몰라\n",
      "오답입니다\n"
     ]
    }
   ],
   "source": [
    "# 119\n",
    "\n",
    "fruit = {\"봄\" : \"딸기\", \"여름\" : \"토마토\", \"가을\" : \"사과\"}\n",
    "\n",
    "favorite_season = input('제가 좋아하는 계절은 : ')\n",
    "\n",
    "print('정답입니다') if favorite_season in fruit.keys() else print('오답입니다')"
   ]
  },
  {
   "cell_type": "code",
   "execution_count": 37,
   "id": "436e6b5e",
   "metadata": {},
   "outputs": [
    {
     "name": "stdout",
     "output_type": "stream",
     "text": [
      "제가 좋아하는 계절은 : 딸기\n",
      "정답입니다\n"
     ]
    }
   ],
   "source": [
    "# 120\n",
    "\n",
    "fruit = {\"봄\" : \"딸기\", \"여름\" : \"토마토\", \"가을\" : \"사과\"}\n",
    "\n",
    "favorite_season = input('제가 좋아하는 계절은 : ')\n",
    "\n",
    "print('정답입니다') if favorite_season in fruit.values() else print('오답입니다')"
   ]
  },
  {
   "cell_type": "code",
   "execution_count": 40,
   "id": "fb952a31",
   "metadata": {},
   "outputs": [
    {
     "name": "stdout",
     "output_type": "stream",
     "text": [
      "영어 문자 하나를 입력하세요 : B\n",
      "b\n"
     ]
    }
   ],
   "source": [
    "# 121\n",
    "\n",
    "user_char = input('영어 문자 하나를 입력하세요 : ')\n",
    "\n",
    "print(user_char.upper()) if user_char.islower() else print(user_char.lower())"
   ]
  },
  {
   "cell_type": "code",
   "execution_count": 44,
   "id": "041fca89",
   "metadata": {},
   "outputs": [
    {
     "name": "stdout",
     "output_type": "stream",
     "text": [
      "score : 83\n",
      "grade is A\n"
     ]
    }
   ],
   "source": [
    "# 122\n",
    "\n",
    "user_score = int(input('score : '))\n",
    "\n",
    "if 0 <= user_score <= 20:\n",
    "    print('grade is E')\n",
    "elif user_score <= 40:\n",
    "    print('grade is D')\n",
    "elif user_score <= 60:\n",
    "    print('grade is C')\n",
    "elif user_score <= 80:\n",
    "    print('grade is B')\n",
    "elif user_score <= 100:\n",
    "    print('grade is A')\n",
    "    "
   ]
  },
  {
   "cell_type": "code",
   "execution_count": 55,
   "id": "ebd7de27",
   "metadata": {},
   "outputs": [
    {
     "name": "stdout",
     "output_type": "stream",
     "text": [
      "금액, 통화명: 100 달러\n",
      "116700.0 원\n"
     ]
    }
   ],
   "source": [
    "# 123\n",
    "\n",
    "user_money = input('금액, 통화명: ')\n",
    "\n",
    "x = user_money.split(' ')\n",
    "\n",
    "if x[-1] == '달러':\n",
    "    print(f'{float(x[0]) * 1167} 원')\n",
    "elif x[-1] == '엔':\n",
    "    print(f'{float(x[0]) * 1.096} 원')\n",
    "elif x[-1] == '유로':\n",
    "    print(f'{float(x[0]) * 1268} 원')\n",
    "elif x[-1] == '위안':\n",
    "    print(f'{float(x[0]) * 1.096} 원')\n",
    "    \n",
    "    \n",
    "\n",
    "# 정답은 딕셔너리 이용.\n",
    "\n",
    "# 환율 = {\"달러\": 1167, \n",
    "#         \"엔\": 1.096, \n",
    "#         \"유로\": 1268, \n",
    "#         \"위안\": 171}\n",
    "# user = input(\"입력: \")\n",
    "# num, currency = user.split()\n",
    "# print(float(num) * 환율[currency], \"원\")\n",
    "\n"
   ]
  },
  {
   "cell_type": "code",
   "execution_count": 58,
   "id": "f385bcda",
   "metadata": {},
   "outputs": [
    {
     "name": "stdout",
     "output_type": "stream",
     "text": [
      "number 1 : 10\n",
      "number 2 : 9\n",
      "number 3 : 20\n",
      "20\n"
     ]
    }
   ],
   "source": [
    "# 124\n",
    "\n",
    "a = int(input('number 1 : '))\n",
    "b = int(input('number 2 : '))\n",
    "c = int(input('number 3 : '))\n",
    "\n",
    "d = max(a, b)\n",
    "e = max(d, c)\n",
    "\n",
    "print(e)"
   ]
  },
  {
   "cell_type": "code",
   "execution_count": 63,
   "id": "9204c842",
   "metadata": {},
   "outputs": [
    {
     "name": "stdout",
     "output_type": "stream",
     "text": [
      "xxx-xxxx-xxxx : 011-345-1922\n",
      "당신은 SKT 사용자 입니다.\n"
     ]
    }
   ],
   "source": [
    "# 125\n",
    "\n",
    "phone_number_list = input('xxx-xxxx-xxxx : ').split('-')\n",
    "\n",
    "phone_dict = {'011': 'SKT', '016': 'KT', '019': 'LGU', '010': '알수없음'}\n",
    "\n",
    "print(f'당신은 {phone_dict[phone_number_list[0]]} 사용자 입니다.')"
   ]
  },
  {
   "cell_type": "code",
   "execution_count": 69,
   "id": "cf2b0e0f",
   "metadata": {},
   "outputs": [
    {
     "name": "stdout",
     "output_type": "stream",
     "text": [
      "우편번호를 입력하세요: 01400\n",
      "도봉구\n"
     ]
    }
   ],
   "source": [
    "# 126\n",
    "\n",
    "gangbukgu = ['010', '011', '012']\n",
    "dobonggu = ['013', '014', '015']\n",
    "nowongu = ['016', '017', '018', '019']\n",
    "\n",
    "zipcode = input('우편번호를 입력하세요: ')\n",
    "\n",
    "x = zipcode[:3]\n",
    "\n",
    "if x in gangbukgu:\n",
    "    print('강북구')\n",
    "if x in dobonggu:\n",
    "    print('도봉구')\n",
    "if x in nowongu:\n",
    "    print('노원구')\n"
   ]
  },
  {
   "cell_type": "code",
   "execution_count": 76,
   "id": "a4f2d4e1",
   "metadata": {},
   "outputs": [
    {
     "name": "stdout",
     "output_type": "stream",
     "text": [
      "주민등록번호를 입력하세요 : 821010-1635210\n",
      "남자\n"
     ]
    }
   ],
   "source": [
    "# 127\n",
    "\n",
    "# social_number = input('주민등록번호를 입력하세요 : ').split('-')\n",
    "\n",
    "# first_back_number = social_number[1][0]\n",
    "\n",
    "# if first_back_number == '1' or '3':\n",
    "#     print('남자')\n",
    "# else:\n",
    "#     print('여자')\n",
    "\n",
    "social_number = input('주민등록번호를 입력하세요 : ').split('-')\n",
    "\n",
    "first_back_number = social_number[1][0]\n",
    "\n",
    "if first_back_number == '1' or first_back_number == '3':\n",
    "    print('남자')\n",
    "else:\n",
    "    print('여자')"
   ]
  },
  {
   "cell_type": "code",
   "execution_count": 83,
   "id": "92033aac",
   "metadata": {},
   "outputs": [
    {
     "name": "stdout",
     "output_type": "stream",
     "text": [
      "주민등록번호를 입력하세요 : 861010-1015210\n",
      "서울입니다\n"
     ]
    }
   ],
   "source": [
    "# 128\n",
    "\n",
    "social_number = input('주민등록번호를 입력하세요 : ').split('-')\n",
    "\n",
    "region = int(social_number[1][1:3])\n",
    "\n",
    "if 0 <= region <= 8:\n",
    "    print('서울입니다')\n",
    "else:\n",
    "    print('서울이 아닙니다')\n",
    "\n"
   ]
  },
  {
   "cell_type": "code",
   "execution_count": 110,
   "id": "b50ce045",
   "metadata": {},
   "outputs": [
    {
     "name": "stdout",
     "output_type": "stream",
     "text": [
      "주민등록번호를 입력하세요 : 821010-1635210\n",
      "유효하지 않은 주민등록번호입니다.\n"
     ]
    }
   ],
   "source": [
    "# 129\n",
    "\n",
    "social_number = input('주민등록번호를 입력하세요 : ').split('-')\n",
    "\n",
    "last_number = social_number[1][-1]\n",
    "\n",
    "removed_last_number = social_number[0][:] + social_number[1][:-1]\n",
    "\n",
    "x = list(removed_last_number)\n",
    "y = list('234567892345')\n",
    "n = 0\n",
    "\n",
    "for a, b in zip(x, y):\n",
    "    n += int(a) * int(b)\n",
    "    \n",
    "result = 11 - (n % 11)\n",
    "\n",
    "if result != int(last_number):\n",
    "    print(\"유효하지 않은 주민등록번호입니다.\")\n",
    "else:\n",
    "    print(\"유효한 주민등록번호입니다.\")\n"
   ]
  },
  {
   "cell_type": "code",
   "execution_count": 111,
   "id": "ac49dc1d",
   "metadata": {},
   "outputs": [
    {
     "ename": "ModuleNotFoundError",
     "evalue": "No module named 'requests'",
     "output_type": "error",
     "traceback": [
      "\u001b[0;31m---------------------------------------------------------------------------\u001b[0m",
      "\u001b[0;31mModuleNotFoundError\u001b[0m                       Traceback (most recent call last)",
      "Cell \u001b[0;32mIn[111], line 3\u001b[0m\n\u001b[1;32m      1\u001b[0m \u001b[38;5;66;03m# 130\u001b[39;00m\n\u001b[0;32m----> 3\u001b[0m \u001b[38;5;28;01mimport\u001b[39;00m \u001b[38;5;21;01mrequests\u001b[39;00m\n\u001b[1;32m      4\u001b[0m btc \u001b[38;5;241m=\u001b[39m requests\u001b[38;5;241m.\u001b[39mget(\u001b[38;5;124m\"\u001b[39m\u001b[38;5;124mhttps://api.bithumb.com/public/ticker/\u001b[39m\u001b[38;5;124m\"\u001b[39m)\u001b[38;5;241m.\u001b[39mjson()[\u001b[38;5;124m'\u001b[39m\u001b[38;5;124mdata\u001b[39m\u001b[38;5;124m'\u001b[39m]\n",
      "\u001b[0;31mModuleNotFoundError\u001b[0m: No module named 'requests'"
     ]
    }
   ],
   "source": [
    "# 130\n",
    "\n",
    "import requests\n",
    "btc = requests.get(\"https://api.bithumb.com/public/ticker/\").json()['data']"
   ]
  },
  {
   "cell_type": "code",
   "execution_count": 113,
   "id": "781ea430",
   "metadata": {},
   "outputs": [
    {
     "ename": "NameError",
     "evalue": "name '사과' is not defined",
     "output_type": "error",
     "traceback": [
      "\u001b[0;31m---------------------------------------------------------------------------\u001b[0m",
      "\u001b[0;31mNameError\u001b[0m                                 Traceback (most recent call last)",
      "Cell \u001b[0;32mIn[113], line 3\u001b[0m\n\u001b[1;32m      1\u001b[0m \u001b[38;5;66;03m# 131\u001b[39;00m\n\u001b[0;32m----> 3\u001b[0m \u001b[43m사과\u001b[49m \n\u001b[1;32m      4\u001b[0m 귤\n\u001b[1;32m      5\u001b[0m 수박\n",
      "\u001b[0;31mNameError\u001b[0m: name '사과' is not defined"
     ]
    }
   ],
   "source": [
    "# 131\n",
    "\n",
    "사과 \n",
    "귤\n",
    "수박"
   ]
  },
  {
   "cell_type": "code",
   "execution_count": 115,
   "id": "fa850a96",
   "metadata": {},
   "outputs": [],
   "source": [
    "# 132\n",
    "\n",
    "#####\n",
    "#####\n",
    "#####\n"
   ]
  },
  {
   "cell_type": "code",
   "execution_count": 116,
   "id": "4bc72ea2",
   "metadata": {},
   "outputs": [
    {
     "name": "stdout",
     "output_type": "stream",
     "text": [
      "A\n",
      "B\n",
      "C\n"
     ]
    }
   ],
   "source": [
    "# 133\n",
    "\n",
    "\n",
    "print(\"A\")\n",
    "print(\"B\")\n",
    "print(\"C\")\n"
   ]
  },
  {
   "cell_type": "code",
   "execution_count": 119,
   "id": "c6579731",
   "metadata": {},
   "outputs": [
    {
     "name": "stdout",
     "output_type": "stream",
     "text": [
      "출력: A\n",
      "출력: B\n",
      "출력: C\n"
     ]
    }
   ],
   "source": [
    "# 134\n",
    "\n",
    "print(\"출력:\", \"A\")\n",
    "print(\"출력:\", \"B\")\n",
    "print(\"출력:\", \"C\")\n",
    "\n"
   ]
  },
  {
   "cell_type": "code",
   "execution_count": 122,
   "id": "704b6bc5",
   "metadata": {},
   "outputs": [
    {
     "name": "stdout",
     "output_type": "stream",
     "text": [
      "변환: a\n",
      "변환: b\n",
      "변환: c\n"
     ]
    }
   ],
   "source": [
    "# 135\n",
    "\n",
    "변수 = \"A\"\n",
    "b = 변수.lower()\n",
    "print(\"변환:\", b)\n",
    "변수 = \"B\"\n",
    "b = 변수.lower()\n",
    "print(\"변환:\", b)\n",
    "변수 = \"C\"\n",
    "b = 변수.lower()\n",
    "print(\"변환:\", b)\n",
    "\n"
   ]
  },
  {
   "cell_type": "code",
   "execution_count": 124,
   "id": "8135d834",
   "metadata": {},
   "outputs": [
    {
     "name": "stdout",
     "output_type": "stream",
     "text": [
      "10\n",
      "20\n",
      "30\n"
     ]
    }
   ],
   "source": [
    "# 136\n",
    "\n",
    "변수 = [10, 20, 30]\n",
    "\n",
    "for i in 변수:\n",
    "    print(i)"
   ]
  },
  {
   "cell_type": "code",
   "execution_count": 125,
   "id": "c2a406a3",
   "metadata": {},
   "outputs": [
    {
     "name": "stdout",
     "output_type": "stream",
     "text": [
      "10\n",
      "20\n",
      "30\n"
     ]
    }
   ],
   "source": [
    "# 137\n",
    "\n",
    "for i in [10, 20, 30]:\n",
    "    print(i)"
   ]
  },
  {
   "cell_type": "code",
   "execution_count": 127,
   "id": "4a767d1c",
   "metadata": {},
   "outputs": [
    {
     "name": "stdout",
     "output_type": "stream",
     "text": [
      "10\n",
      "-------\n",
      "20\n",
      "-------\n",
      "30\n",
      "-------\n"
     ]
    }
   ],
   "source": [
    "# 138\n",
    "\n",
    "for i in [10, 20, 30]:\n",
    "    print(i)\n",
    "    print(\"-------\")"
   ]
  },
  {
   "cell_type": "code",
   "execution_count": 128,
   "id": "a14672fb",
   "metadata": {},
   "outputs": [
    {
     "name": "stdout",
     "output_type": "stream",
     "text": [
      "++++\n",
      "10\n",
      "20\n",
      "30\n"
     ]
    }
   ],
   "source": [
    "# 139\n",
    "\n",
    "print(\"++++\")\n",
    "\n",
    "for i in [10, 20, 30]:\n",
    "    print(i)"
   ]
  },
  {
   "cell_type": "code",
   "execution_count": 129,
   "id": "02c088ec",
   "metadata": {},
   "outputs": [
    {
     "name": "stdout",
     "output_type": "stream",
     "text": [
      "-------\n",
      "-------\n",
      "-------\n",
      "-------\n"
     ]
    }
   ],
   "source": [
    "# 140\n",
    "\n",
    "for _ in range(4):\n",
    "    print(\"-------\")    "
   ]
  },
  {
   "cell_type": "code",
   "execution_count": 132,
   "id": "2b54fce9",
   "metadata": {},
   "outputs": [
    {
     "name": "stdout",
     "output_type": "stream",
     "text": [
      "110\n",
      "210\n",
      "310\n"
     ]
    }
   ],
   "source": [
    "# 141\n",
    "\n",
    "리스트 = [100, 200, 300]\n",
    "\n",
    "for i in 리스트:\n",
    "    print(int(i + 10)) "
   ]
  },
  {
   "cell_type": "code",
   "execution_count": 134,
   "id": "aed3772c",
   "metadata": {},
   "outputs": [
    {
     "name": "stdout",
     "output_type": "stream",
     "text": [
      "오늘의 메뉴: 김밥\n",
      "오늘의 메뉴: 라면\n",
      "오늘의 메뉴: 튀김\n"
     ]
    }
   ],
   "source": [
    "# 142\n",
    "\n",
    "리스트 = [\"김밥\", \"라면\", \"튀김\"]\n",
    "\n",
    "for i in 리스트:\n",
    "    print(f'오늘의 메뉴: {i}')\n",
    "    "
   ]
  },
  {
   "cell_type": "code",
   "execution_count": 135,
   "id": "193ca0c2",
   "metadata": {},
   "outputs": [
    {
     "name": "stdout",
     "output_type": "stream",
     "text": [
      "6\n",
      "4\n",
      "4\n"
     ]
    }
   ],
   "source": [
    "# 143\n",
    "\n",
    "리스트 = [\"SK하이닉스\", \"삼성전자\", \"LG전자\"]\n",
    "\n",
    "for i in 리스트:\n",
    "    print(len(i))"
   ]
  },
  {
   "cell_type": "code",
   "execution_count": 136,
   "id": "0dcc69ff",
   "metadata": {},
   "outputs": [
    {
     "name": "stdout",
     "output_type": "stream",
     "text": [
      "dog 3\n",
      "cat 3\n",
      "parrot 6\n"
     ]
    }
   ],
   "source": [
    "# 144\n",
    "\n",
    "리스트 = ['dog', 'cat', 'parrot']\n",
    "\n",
    "for i in 리스트:\n",
    "    print(i, len(i))"
   ]
  },
  {
   "cell_type": "code",
   "execution_count": 137,
   "id": "7468b9dc",
   "metadata": {},
   "outputs": [
    {
     "name": "stdout",
     "output_type": "stream",
     "text": [
      "d\n",
      "c\n",
      "p\n"
     ]
    }
   ],
   "source": [
    "# 145\n",
    "\n",
    "리스트 = ['dog', 'cat', 'parrot']\n",
    "\n",
    "for i in 리스트:\n",
    "    print(i[0])"
   ]
  },
  {
   "cell_type": "code",
   "execution_count": 139,
   "id": "75f6243d",
   "metadata": {},
   "outputs": [
    {
     "name": "stdout",
     "output_type": "stream",
     "text": [
      "3 x 1\n",
      "3 x 2\n",
      "3 x 3\n"
     ]
    }
   ],
   "source": [
    "# 146\n",
    "\n",
    "리스트 = [1, 2, 3]\n",
    "\n",
    "for i in 리스트:\n",
    "    print(f'3 x {i}')"
   ]
  },
  {
   "cell_type": "code",
   "execution_count": 140,
   "id": "a8b2cbbe",
   "metadata": {},
   "outputs": [
    {
     "name": "stdout",
     "output_type": "stream",
     "text": [
      "3 x 1 = 3\n",
      "3 x 2 = 6\n",
      "3 x 3 = 9\n"
     ]
    }
   ],
   "source": [
    "# 147\n",
    "\n",
    "리스트 = [1, 2, 3]\n",
    "\n",
    "for i in 리스트:\n",
    "    print(f'3 x {i} = {3*i}')"
   ]
  },
  {
   "cell_type": "code",
   "execution_count": 142,
   "id": "d178f54a",
   "metadata": {},
   "outputs": [
    {
     "name": "stdout",
     "output_type": "stream",
     "text": [
      "나\n",
      "다\n",
      "라\n"
     ]
    }
   ],
   "source": [
    "# 148\n",
    "\n",
    "리스트 = [\"가\", \"나\", \"다\", \"라\"]\n",
    "list = 리스트[1:]\n",
    "\n",
    "for i in list:\n",
    "    print(i)"
   ]
  },
  {
   "cell_type": "code",
   "execution_count": 144,
   "id": "01125e02",
   "metadata": {},
   "outputs": [
    {
     "name": "stdout",
     "output_type": "stream",
     "text": [
      "가\n",
      "다\n"
     ]
    }
   ],
   "source": [
    "# 149\n",
    "\n",
    "리스트 = [\"가\", \"나\", \"다\", \"라\"]\n",
    "list = 리스트[::2]\n",
    "\n",
    "for i in list:\n",
    "    print(i)"
   ]
  },
  {
   "cell_type": "code",
   "execution_count": 145,
   "id": "595e849a",
   "metadata": {},
   "outputs": [
    {
     "name": "stdout",
     "output_type": "stream",
     "text": [
      "라\n",
      "다\n",
      "나\n",
      "가\n"
     ]
    }
   ],
   "source": [
    "# 150\n",
    "\n",
    "리스트 = [\"가\", \"나\", \"다\", \"라\"]\n",
    "\n",
    "for i in 리스트[::-1]:\n",
    "    print(i)"
   ]
  },
  {
   "cell_type": "code",
   "execution_count": 146,
   "id": "e580d4a8",
   "metadata": {},
   "outputs": [
    {
     "name": "stdout",
     "output_type": "stream",
     "text": [
      "-20\n",
      "-3\n"
     ]
    }
   ],
   "source": [
    "# 151\n",
    "\n",
    "리스트 = [3, -20, -3, 44]\n",
    "\n",
    "for i in 리스트:\n",
    "    if i < 0:\n",
    "        print(i)"
   ]
  },
  {
   "cell_type": "code",
   "execution_count": 147,
   "id": "2bf61040",
   "metadata": {},
   "outputs": [
    {
     "name": "stdout",
     "output_type": "stream",
     "text": [
      "3\n"
     ]
    }
   ],
   "source": [
    "# 152\n",
    "\n",
    "리스트 = [3, 100, 23, 44]\n",
    "\n",
    "for i in 리스트:\n",
    "    if i % 3 == 0:\n",
    "        print(i)"
   ]
  },
  {
   "cell_type": "code",
   "execution_count": 148,
   "id": "0b1081e9",
   "metadata": {},
   "outputs": [
    {
     "name": "stdout",
     "output_type": "stream",
     "text": [
      "12\n",
      "18\n"
     ]
    }
   ],
   "source": [
    "# 153\n",
    "\n",
    "리스트 = [13, 21, 12, 14, 30, 18]\n",
    "\n",
    "for i in 리스트:\n",
    "    if i % 3 == 0:\n",
    "        if i < 20:\n",
    "            print(i)\n",
    "            \n",
    "# if (i % 3) == 0 or (i < 20) -> 이렇게 작성하는 것도 가능하다. "
   ]
  },
  {
   "cell_type": "code",
   "execution_count": 149,
   "id": "07709a26",
   "metadata": {},
   "outputs": [
    {
     "name": "stdout",
     "output_type": "stream",
     "text": [
      "study\n",
      "python\n",
      "language\n"
     ]
    }
   ],
   "source": [
    "# 154\n",
    "\n",
    "리스트 = [\"I\", \"study\", \"python\", \"language\", \"!\"]\n",
    "\n",
    "for i in 리스트:\n",
    "    if len(i) >= 3:\n",
    "        print(i)"
   ]
  },
  {
   "cell_type": "code",
   "execution_count": 150,
   "id": "7010b5d1",
   "metadata": {},
   "outputs": [
    {
     "name": "stdout",
     "output_type": "stream",
     "text": [
      "A\n",
      "D\n"
     ]
    }
   ],
   "source": [
    "# 155\n",
    "\n",
    "리스트 = [\"A\", \"b\", \"c\", \"D\"]\n",
    "\n",
    "for i in 리스트:\n",
    "    if i.isupper():\n",
    "        print(i)"
   ]
  },
  {
   "cell_type": "code",
   "execution_count": 151,
   "id": "1ac02485",
   "metadata": {},
   "outputs": [
    {
     "name": "stdout",
     "output_type": "stream",
     "text": [
      "b\n",
      "c\n"
     ]
    }
   ],
   "source": [
    "# 156\n",
    "\n",
    "리스트 = [\"A\", \"b\", \"c\", \"D\"]\n",
    "\n",
    "for i in 리스트:\n",
    "    if i.islower():\n",
    "        print(i)"
   ]
  },
  {
   "cell_type": "code",
   "execution_count": 154,
   "id": "81403ba8",
   "metadata": {},
   "outputs": [
    {
     "name": "stdout",
     "output_type": "stream",
     "text": [
      "Dog\n",
      "Cat\n",
      "Parrot\n"
     ]
    }
   ],
   "source": [
    "# 157\n",
    "\n",
    "리스트 = ['dog', 'cat', 'parrot']\n",
    "\n",
    "for i in 리스트:\n",
    "    print(i.title())  # 아니면 첫글자를 인덱싱으로 뽑아서 upper메서드 사용해도 된다."
   ]
  },
  {
   "cell_type": "code",
   "execution_count": 162,
   "id": "3b291592",
   "metadata": {},
   "outputs": [
    {
     "name": "stdout",
     "output_type": "stream",
     "text": [
      "hello\n",
      "ex01\n",
      "intro\n"
     ]
    }
   ],
   "source": [
    "# 158\n",
    "\n",
    "리스트 = ['hello.py', 'ex01.py', 'intro.hwp']\n",
    "\n",
    "for i in 리스트:\n",
    "    print(i.split('.')[0])"
   ]
  },
  {
   "cell_type": "code",
   "execution_count": 163,
   "id": "71ace861",
   "metadata": {},
   "outputs": [
    {
     "name": "stdout",
     "output_type": "stream",
     "text": [
      "intra.h\n",
      "define.h\n"
     ]
    }
   ],
   "source": [
    "# 159\n",
    "\n",
    "리스트 = ['intra.h', 'intra.c', 'define.h', 'run.py']\n",
    "\n",
    "for i in 리스트:\n",
    "    if i.split('.')[-1] == 'h':\n",
    "        print(i)"
   ]
  },
  {
   "cell_type": "code",
   "execution_count": 165,
   "id": "5c7e78a7",
   "metadata": {},
   "outputs": [
    {
     "name": "stdout",
     "output_type": "stream",
     "text": [
      "intra.h\n",
      "intra.c\n",
      "define.h\n"
     ]
    }
   ],
   "source": [
    "# 160\n",
    "\n",
    "리스트 = ['intra.h', 'intra.c', 'define.h', 'run.py']\n",
    "\n",
    "for i in 리스트:\n",
    "    if i.split('.')[-1] == 'h' or i.split('.')[-1] == 'c':\n",
    "        print(i)"
   ]
  },
  {
   "cell_type": "code",
   "execution_count": 166,
   "id": "32f3b095",
   "metadata": {},
   "outputs": [
    {
     "name": "stdout",
     "output_type": "stream",
     "text": [
      "0\n",
      "1\n",
      "2\n",
      "3\n",
      "4\n",
      "5\n",
      "6\n",
      "7\n",
      "8\n",
      "9\n",
      "10\n",
      "11\n",
      "12\n",
      "13\n",
      "14\n",
      "15\n",
      "16\n",
      "17\n",
      "18\n",
      "19\n",
      "20\n",
      "21\n",
      "22\n",
      "23\n",
      "24\n",
      "25\n",
      "26\n",
      "27\n",
      "28\n",
      "29\n",
      "30\n",
      "31\n",
      "32\n",
      "33\n",
      "34\n",
      "35\n",
      "36\n",
      "37\n",
      "38\n",
      "39\n",
      "40\n",
      "41\n",
      "42\n",
      "43\n",
      "44\n",
      "45\n",
      "46\n",
      "47\n",
      "48\n",
      "49\n",
      "50\n",
      "51\n",
      "52\n",
      "53\n",
      "54\n",
      "55\n",
      "56\n",
      "57\n",
      "58\n",
      "59\n",
      "60\n",
      "61\n",
      "62\n",
      "63\n",
      "64\n",
      "65\n",
      "66\n",
      "67\n",
      "68\n",
      "69\n",
      "70\n",
      "71\n",
      "72\n",
      "73\n",
      "74\n",
      "75\n",
      "76\n",
      "77\n",
      "78\n",
      "79\n",
      "80\n",
      "81\n",
      "82\n",
      "83\n",
      "84\n",
      "85\n",
      "86\n",
      "87\n",
      "88\n",
      "89\n",
      "90\n",
      "91\n",
      "92\n",
      "93\n",
      "94\n",
      "95\n",
      "96\n",
      "97\n",
      "98\n",
      "99\n"
     ]
    }
   ],
   "source": [
    "# 161\n",
    "\n",
    "for i in range(100):\n",
    "    print(i)"
   ]
  },
  {
   "cell_type": "code",
   "execution_count": 167,
   "id": "f6e4c674",
   "metadata": {},
   "outputs": [
    {
     "name": "stdout",
     "output_type": "stream",
     "text": [
      "2002\n",
      "2006\n",
      "2010\n",
      "2014\n",
      "2018\n",
      "2022\n",
      "2026\n",
      "2030\n",
      "2034\n",
      "2038\n",
      "2042\n",
      "2046\n",
      "2050\n"
     ]
    }
   ],
   "source": [
    "# 162\n",
    "\n",
    "for i in range(2002, 2051, 4):\n",
    "    print(i)"
   ]
  },
  {
   "cell_type": "code",
   "execution_count": 168,
   "id": "53d72f34",
   "metadata": {},
   "outputs": [
    {
     "name": "stdout",
     "output_type": "stream",
     "text": [
      "3\n",
      "6\n",
      "9\n",
      "12\n",
      "15\n",
      "18\n",
      "21\n",
      "24\n",
      "27\n",
      "30\n"
     ]
    }
   ],
   "source": [
    "# 163\n",
    "\n",
    "for i in range(1, 31):\n",
    "    if i % 3 == 0:\n",
    "        print(i)"
   ]
  },
  {
   "cell_type": "code",
   "execution_count": 170,
   "id": "e151b507",
   "metadata": {},
   "outputs": [
    {
     "name": "stdout",
     "output_type": "stream",
     "text": [
      "99\n",
      "98\n",
      "97\n",
      "96\n",
      "95\n",
      "94\n",
      "93\n",
      "92\n",
      "91\n",
      "90\n",
      "89\n",
      "88\n",
      "87\n",
      "86\n",
      "85\n",
      "84\n",
      "83\n",
      "82\n",
      "81\n",
      "80\n",
      "79\n",
      "78\n",
      "77\n",
      "76\n",
      "75\n",
      "74\n",
      "73\n",
      "72\n",
      "71\n",
      "70\n",
      "69\n",
      "68\n",
      "67\n",
      "66\n",
      "65\n",
      "64\n",
      "63\n",
      "62\n",
      "61\n",
      "60\n",
      "59\n",
      "58\n",
      "57\n",
      "56\n",
      "55\n",
      "54\n",
      "53\n",
      "52\n",
      "51\n",
      "50\n",
      "49\n",
      "48\n",
      "47\n",
      "46\n",
      "45\n",
      "44\n",
      "43\n",
      "42\n",
      "41\n",
      "40\n",
      "39\n",
      "38\n",
      "37\n",
      "36\n",
      "35\n",
      "34\n",
      "33\n",
      "32\n",
      "31\n",
      "30\n",
      "29\n",
      "28\n",
      "27\n",
      "26\n",
      "25\n",
      "24\n",
      "23\n",
      "22\n",
      "21\n",
      "20\n",
      "19\n",
      "18\n",
      "17\n",
      "16\n",
      "15\n",
      "14\n",
      "13\n",
      "12\n",
      "11\n",
      "10\n",
      "9\n",
      "8\n",
      "7\n",
      "6\n",
      "5\n",
      "4\n",
      "3\n",
      "2\n",
      "1\n",
      "0\n"
     ]
    }
   ],
   "source": [
    "# 164\n",
    "\n",
    "for i in range(99, -1, -1):\n",
    "    print(i)"
   ]
  },
  {
   "cell_type": "code",
   "execution_count": 173,
   "id": "1570405d",
   "metadata": {},
   "outputs": [
    {
     "name": "stdout",
     "output_type": "stream",
     "text": [
      "0.0\n",
      "0.1\n",
      "0.2\n",
      "0.3\n",
      "0.4\n",
      "0.5\n",
      "0.6\n",
      "0.7\n",
      "0.8\n",
      "0.9\n"
     ]
    }
   ],
   "source": [
    "# 165\n",
    "\n",
    "for i in range(0, 10):\n",
    "    print(i / 10)"
   ]
  },
  {
   "cell_type": "code",
   "execution_count": 176,
   "id": "2033274b",
   "metadata": {},
   "outputs": [
    {
     "name": "stdout",
     "output_type": "stream",
     "text": [
      "3 x 1 = 3\n",
      "3 x 2 = 6\n",
      "3 x 3 = 9\n",
      "3 x 4 = 12\n",
      "3 x 5 = 15\n",
      "3 x 6 = 18\n",
      "3 x 7 = 21\n",
      "3 x 8 = 24\n",
      "3 x 9 = 27\n"
     ]
    }
   ],
   "source": [
    "# 166\n",
    "\n",
    "for i in range(1, 10):\n",
    "    print(f'3 x {i} = {3 * i}')"
   ]
  },
  {
   "cell_type": "code",
   "execution_count": 179,
   "id": "acf883f9",
   "metadata": {},
   "outputs": [
    {
     "name": "stdout",
     "output_type": "stream",
     "text": [
      "3 x 1 = 3\n",
      "3 x 3 = 9\n",
      "3 x 5 = 15\n",
      "3 x 7 = 21\n",
      "3 x 9 = 27\n"
     ]
    }
   ],
   "source": [
    "# 167\n",
    "\n",
    "\n",
    "for i in range(1, 10, 2):\n",
    "    print(f'3 x {i} = {3 * i}')"
   ]
  },
  {
   "cell_type": "code",
   "execution_count": 11,
   "id": "24a01118",
   "metadata": {},
   "outputs": [
    {
     "name": "stdout",
     "output_type": "stream",
     "text": [
      "합 : 55\n"
     ]
    }
   ],
   "source": [
    "# 168\n",
    "\n",
    "n = 0\n",
    "\n",
    "for i in range(1, 11):\n",
    "    n += i\n",
    "\n",
    "print(f'합 : {n}')\n",
    "\n",
    "\n",
    "    "
   ]
  },
  {
   "cell_type": "code",
   "execution_count": 12,
   "id": "1dd350df",
   "metadata": {},
   "outputs": [
    {
     "name": "stdout",
     "output_type": "stream",
     "text": [
      "합 : 25\n"
     ]
    }
   ],
   "source": [
    "# 169\n",
    "\n",
    "n = 0\n",
    "\n",
    "for i in range(1, 11, 2):\n",
    "    n += i\n",
    "\n",
    "print(f'합 : {n}')\n"
   ]
  },
  {
   "cell_type": "code",
   "execution_count": 14,
   "id": "6d940503",
   "metadata": {},
   "outputs": [
    {
     "name": "stdout",
     "output_type": "stream",
     "text": [
      "곱 : 3628800\n"
     ]
    }
   ],
   "source": [
    "# 170\n",
    "\n",
    "n = 1\n",
    "\n",
    "for i in range(1, 11):\n",
    "    n *= i\n",
    "\n",
    "print(f'곱 : {n}')\n"
   ]
  },
  {
   "cell_type": "code",
   "execution_count": 15,
   "id": "4feaf078",
   "metadata": {},
   "outputs": [
    {
     "name": "stdout",
     "output_type": "stream",
     "text": [
      "32100\n",
      "32150\n",
      "32000\n",
      "32500\n"
     ]
    }
   ],
   "source": [
    "# 171\n",
    "\n",
    "price_list = [32100, 32150, 32000, 32500]\n",
    "\n",
    "for price in price_list:\n",
    "    print(price)"
   ]
  },
  {
   "cell_type": "code",
   "execution_count": 19,
   "id": "c0509309",
   "metadata": {},
   "outputs": [
    {
     "name": "stdout",
     "output_type": "stream",
     "text": [
      "0 32100\n",
      "1 32150\n",
      "2 32000\n",
      "3 32500\n"
     ]
    },
    {
     "data": {
      "text/plain": [
       "'\\nenumerate 함수를 사용해도 된다......\\n'"
      ]
     },
     "execution_count": 19,
     "metadata": {},
     "output_type": "execute_result"
    }
   ],
   "source": [
    "# 172\n",
    "\n",
    "price_list = [32100, 32150, 32000, 32500]\n",
    "index = 0\n",
    "\n",
    "# for i in price_list:\n",
    "#     print(f'{index} {i}')\n",
    "#     index += 1\n",
    "\n",
    "for i, price in enumerate(price_list):\n",
    "    print(i, price)\n",
    "    \n",
    "'''\n",
    "enumerate 함수를 사용해도 된다......\n",
    "'''"
   ]
  },
  {
   "cell_type": "code",
   "execution_count": 24,
   "id": "0793dfb8",
   "metadata": {},
   "outputs": [
    {
     "name": "stdout",
     "output_type": "stream",
     "text": [
      "3 32100\n",
      "2 32150\n",
      "1 32000\n",
      "0 32500\n"
     ]
    }
   ],
   "source": [
    "# 173\n",
    "\n",
    "price_list = [32100, 32150, 32000, 32500]\n",
    "index = len(price_list) - 1\n",
    "\n",
    "for i in price_list:\n",
    "    print(f'{index} {i}')\n",
    "    index -= 1\n",
    "    \n",
    "# 한 줄로 코딩하면 아래와 같다.\n",
    "# for i in range(len(price_list)):\n",
    "#     print((len(price_list) - 1) - i, price_list[i])\n",
    "    "
   ]
  },
  {
   "cell_type": "code",
   "execution_count": 31,
   "id": "66b3bb2d",
   "metadata": {},
   "outputs": [
    {
     "name": "stdout",
     "output_type": "stream",
     "text": [
      "100 32150\n",
      "110 32000\n",
      "120 32500\n"
     ]
    }
   ],
   "source": [
    "# 174\n",
    "\n",
    "price_list = [32100, 32150, 32000, 32500]\n",
    "new_price_list = price_list[1:]\n",
    "index = 100\n",
    "\n",
    "for i in range(len(new_price_list)):\n",
    "    print(f'{index} {new_price_list[i]}')\n",
    "    index += 10\n",
    "    \n",
    "# for i in range(1, 4):\n",
    "#    print(90 + 10 * i, price_list[i])\n",
    "# 이렇게도 쓸 수 있었던 문제였던 것이다.... "
   ]
  },
  {
   "cell_type": "code",
   "execution_count": 38,
   "id": "248a2792",
   "metadata": {},
   "outputs": [
    {
     "name": "stdout",
     "output_type": "stream",
     "text": [
      "가 나\n",
      "나 다\n",
      "다 라\n"
     ]
    }
   ],
   "source": [
    "# 175\n",
    "\n",
    "my_list = [\"가\", \"나\", \"다\", \"라\"]\n",
    "list2 = my_list[:]\n",
    "\n",
    "# for i in my_list:\n",
    "#     if len(list2) > 1:\n",
    "#         print(list2[:2])\n",
    "#         list2.remove(i)\n",
    "\n",
    "for i in range(1, len(my_list)):\n",
    "    print(my_list[i-1], my_list[i])"
   ]
  },
  {
   "cell_type": "code",
   "execution_count": 39,
   "id": "78840ee7",
   "metadata": {},
   "outputs": [
    {
     "name": "stdout",
     "output_type": "stream",
     "text": [
      "가 나 다\n",
      "나 다 라\n",
      "다 라 마\n"
     ]
    }
   ],
   "source": [
    "# 176\n",
    "\n",
    "my_list = [\"가\", \"나\", \"다\", \"라\", \"마\"]\n",
    "\n",
    "for i in range(len(my_list) - 2):\n",
    "    print(my_list[i], my_list[i+1], my_list[i+2])"
   ]
  },
  {
   "cell_type": "code",
   "execution_count": 40,
   "id": "f24a8c65",
   "metadata": {},
   "outputs": [
    {
     "name": "stdout",
     "output_type": "stream",
     "text": [
      "라 다\n",
      "다 나\n",
      "나 가\n"
     ]
    }
   ],
   "source": [
    "# 177\n",
    "\n",
    "my_list = [\"가\", \"나\", \"다\", \"라\"]\n",
    "my_list = my_list[::-1]\n",
    "\n",
    "for i in range(len(my_list)-1):\n",
    "    print(my_list[i], my_list[i+1])\n",
    "\n"
   ]
  },
  {
   "cell_type": "code",
   "execution_count": 41,
   "id": "c3733244",
   "metadata": {},
   "outputs": [
    {
     "name": "stdout",
     "output_type": "stream",
     "text": [
      "100\n",
      "200\n",
      "400\n"
     ]
    }
   ],
   "source": [
    "# 178\n",
    "\n",
    "my_list = [100, 200, 400, 800]\n",
    "\n",
    "for i in range(len(my_list)-1):\n",
    "    print(my_list[i+1] - my_list[i])"
   ]
  },
  {
   "cell_type": "code",
   "execution_count": 44,
   "id": "b75cbc63",
   "metadata": {},
   "outputs": [
    {
     "name": "stdout",
     "output_type": "stream",
     "text": [
      "233.33333333333334\n",
      "466.6666666666667\n",
      "733.3333333333334\n",
      "1033.3333333333333\n"
     ]
    }
   ],
   "source": [
    "# 179\n",
    "\n",
    "my_list = [100, 200, 400, 800, 1000, 1300]\n",
    "\n",
    "for i in range(len(my_list)-2):\n",
    "    print((my_list[i] + my_list[i+1] + my_list[i+2]) / 3)"
   ]
  },
  {
   "cell_type": "code",
   "execution_count": 46,
   "id": "2a607cfd",
   "metadata": {},
   "outputs": [
    {
     "name": "stdout",
     "output_type": "stream",
     "text": [
      "[50, 100, 30, 80, 0]\n"
     ]
    }
   ],
   "source": [
    "# 180\n",
    "\n",
    "low_prices  = [100, 200, 400, 800, 1000]\n",
    "high_prices = [150, 300, 430, 880, 1000]\n",
    "volatility = []\n",
    "\n",
    "for i in range(5):\n",
    "    volatility.append(high_prices[i] - low_prices[i])\n",
    "    \n",
    "print(volatility)"
   ]
  },
  {
   "cell_type": "code",
   "execution_count": 2,
   "id": "3a07ceaa",
   "metadata": {},
   "outputs": [],
   "source": [
    "# 181\n",
    "\n",
    "apart = [[\"101호\", \"102호\"], [\"201호\", \"202호\"], [\"301호\", \"302호\"]]"
   ]
  },
  {
   "cell_type": "code",
   "execution_count": 3,
   "id": "b964fc15",
   "metadata": {},
   "outputs": [],
   "source": [
    "# 182\n",
    "\n",
    "stock = [[\"시가\",100, 200, 300], [\"종가\",80, 210, 330]]\n"
   ]
  },
  {
   "cell_type": "code",
   "execution_count": 4,
   "id": "aad3da4d",
   "metadata": {},
   "outputs": [],
   "source": [
    "# 183\n",
    "\n",
    "stock = {\"시가\": [100, 200, 300], \"종가\": [80, 210, 330]}"
   ]
  },
  {
   "cell_type": "code",
   "execution_count": 5,
   "id": "b73c819a",
   "metadata": {},
   "outputs": [],
   "source": [
    "# 184\n",
    "\n",
    "stock = {\"10/10\": [80, 110, 70, 90], \"10/11\": [210, 230, 190, 200]}\n"
   ]
  },
  {
   "cell_type": "code",
   "execution_count": 8,
   "id": "6c37fec4",
   "metadata": {},
   "outputs": [
    {
     "name": "stdout",
     "output_type": "stream",
     "text": [
      "101 호\n",
      "102 호\n",
      "201 호\n",
      "202 호\n",
      "301 호\n",
      "302 호\n"
     ]
    }
   ],
   "source": [
    "# 185\n",
    "\n",
    "apart = [ [101, 102], [201, 202], [301, 302] ]\n",
    "\n",
    "# print(f'{apart[0][0]} 호')\n",
    "# print(f'{apart[0][1]} 호')\n",
    "# print(f'{apart[1][0]} 호')\n",
    "# print(f'{apart[1][1]} 호')\n",
    "# print(f'{apart[2][0]} 호')\n",
    "# print(f'{apart[2][1]} 호')  내가 쓴 개무식한 방법...\n",
    "\n",
    "for row in apart:  # 그리고 답지....\n",
    "    for col in row:\n",
    "        print(col, \"호\")\n"
   ]
  },
  {
   "cell_type": "code",
   "execution_count": 9,
   "id": "35d2ba46",
   "metadata": {},
   "outputs": [
    {
     "name": "stdout",
     "output_type": "stream",
     "text": [
      "301 호\n",
      "302 호\n",
      "201 호\n",
      "202 호\n",
      "101 호\n",
      "102 호\n"
     ]
    }
   ],
   "source": [
    "# 186\n",
    "\n",
    "apart = [ [101, 102], [201, 202], [301, 302] ]\n",
    "\n",
    "for row in apart[::-1]:\n",
    "    for col in row:\n",
    "        print(col, \"호\")"
   ]
  },
  {
   "cell_type": "code",
   "execution_count": 10,
   "id": "09d41117",
   "metadata": {},
   "outputs": [
    {
     "name": "stdout",
     "output_type": "stream",
     "text": [
      "302 호\n",
      "301 호\n",
      "202 호\n",
      "201 호\n",
      "102 호\n",
      "101 호\n"
     ]
    }
   ],
   "source": [
    "# 187\n",
    "\n",
    "apart = [ [101, 102], [201, 202], [301, 302] ]\n",
    "\n",
    "for row in apart[::-1]:\n",
    "    for col in row[::-1]:\n",
    "        print(col, \"호\")"
   ]
  },
  {
   "cell_type": "code",
   "execution_count": 11,
   "id": "8e0e96c3",
   "metadata": {},
   "outputs": [
    {
     "name": "stdout",
     "output_type": "stream",
     "text": [
      "101 호\n",
      "-----\n",
      "102 호\n",
      "-----\n",
      "201 호\n",
      "-----\n",
      "202 호\n",
      "-----\n",
      "301 호\n",
      "-----\n",
      "302 호\n",
      "-----\n"
     ]
    }
   ],
   "source": [
    "# 188\n",
    "\n",
    "apart = [ [101, 102], [201, 202], [301, 302] ]\n",
    "\n",
    "for row in apart:\n",
    "    for col in row:\n",
    "        print(col, \"호\")\n",
    "        print(\"-----\")"
   ]
  },
  {
   "cell_type": "code",
   "execution_count": 15,
   "id": "20af4aa2",
   "metadata": {},
   "outputs": [
    {
     "name": "stdout",
     "output_type": "stream",
     "text": [
      "101 호\n",
      "102 호\n",
      "-----\n",
      "201 호\n",
      "202 호\n",
      "-----\n",
      "301 호\n",
      "302 호\n",
      "-----\n"
     ]
    }
   ],
   "source": [
    "# 189\n",
    "\n",
    "apart = [ [101, 102], [201, 202], [301, 302] ]\n",
    "\n",
    "# for row in apart:\n",
    "#     for col in row:\n",
    "#         if col == row[-1]:\n",
    "#             print(col, \"호\")\n",
    "#             print(\"-----\")\n",
    "#         else:\n",
    "#             print(col, \"호\")  # 내가 쓴 답변... ^^\n",
    "\n",
    "for row in apart:\n",
    "    for col in row:\n",
    "        print(col, \"호\")\n",
    "    print(\"-----\")"
   ]
  },
  {
   "cell_type": "code",
   "execution_count": 16,
   "id": "cdf4b26f",
   "metadata": {},
   "outputs": [
    {
     "name": "stdout",
     "output_type": "stream",
     "text": [
      "101 호\n",
      "102 호\n",
      "201 호\n",
      "202 호\n",
      "301 호\n",
      "302 호\n",
      "-----\n"
     ]
    }
   ],
   "source": [
    "# 190\n",
    "\n",
    "apart = [ [101, 102], [201, 202], [301, 302] ]\n",
    "\n",
    "for row in apart:\n",
    "    for col in row:\n",
    "        print(col, \"호\")\n",
    "print(\"-----\")"
   ]
  },
  {
   "cell_type": "code",
   "execution_count": 22,
   "id": "886ce226",
   "metadata": {},
   "outputs": [
    {
     "name": "stdout",
     "output_type": "stream",
     "text": [
      "2000.28\n",
      "3050.427\n",
      "2050.287\n",
      "1980.2772\n",
      "7501.05\n",
      "2050.287\n",
      "2050.287\n",
      "1980.2772\n",
      "15452.163\n",
      "15052.107\n",
      "15552.177\n",
      "14902.086\n"
     ]
    }
   ],
   "source": [
    "# 191\n",
    "\n",
    "data = [\n",
    "    [ 2000,  3050,  2050,  1980],\n",
    "    [ 7500,  2050,  2050,  1980],\n",
    "    [15450, 15050, 15550, 14900]\n",
    "]\n",
    "\n",
    "for row in data:\n",
    "    for col in row:\n",
    "        print(col + (col * 0.014 * 0.01))"
   ]
  },
  {
   "cell_type": "code",
   "execution_count": 37,
   "id": "5e2b75e9",
   "metadata": {},
   "outputs": [
    {
     "name": "stdout",
     "output_type": "stream",
     "text": [
      "2000.28\n",
      "3050.427\n",
      "2050.287\n",
      "1980.2772\n",
      "-----\n",
      "7501.05\n",
      "2050.287\n",
      "2050.287\n",
      "1980.2772\n",
      "-----\n",
      "15452.163\n",
      "15052.107\n",
      "15552.177\n",
      "14902.086\n",
      "-----\n"
     ]
    }
   ],
   "source": [
    "# 192\n",
    "\n",
    "\n",
    "data = [\n",
    "    [ 2000,  3050,  2050,  1980],\n",
    "    [ 7500,  2050,  2050,  1980],\n",
    "    [15450, 15050, 15550, 14900]\n",
    "]\n",
    "\n",
    "for row in data:\n",
    "    for col in row:\n",
    "        print(col + (col * 0.014 * 0.01))\n",
    "    print(\"-----\")"
   ]
  },
  {
   "cell_type": "code",
   "execution_count": 25,
   "id": "655af2ec",
   "metadata": {},
   "outputs": [
    {
     "name": "stdout",
     "output_type": "stream",
     "text": [
      "[2000.28, 3050.427, 2050.287, 1980.2772, 7501.05, 2050.287, 2050.287, 1980.2772, 15452.163, 15052.107, 15552.177, 14902.086]\n"
     ]
    }
   ],
   "source": [
    "# 193\n",
    "\n",
    "data = [\n",
    "    [ 2000,  3050,  2050,  1980],\n",
    "    [ 7500,  2050,  2050,  1980],\n",
    "    [15450, 15050, 15550, 14900]\n",
    "]\n",
    "\n",
    "result = []\n",
    "\n",
    "for row in data:\n",
    "    for col in row:\n",
    "        result.append(col + (col * 0.014 * 0.01))\n",
    "        \n",
    "print(result)"
   ]
  },
  {
   "cell_type": "code",
   "execution_count": 36,
   "id": "b4cd3bb1",
   "metadata": {},
   "outputs": [
    {
     "name": "stdout",
     "output_type": "stream",
     "text": [
      "[[2000.28, 3050.427, 2050.287, 1980.2772], [7501.05, 2050.287, 2050.287, 1980.2772], [15452.163, 15052.107, 15552.177, 14902.086]]\n"
     ]
    }
   ],
   "source": [
    "# 194 **********중요***************\n",
    "\n",
    "data = [\n",
    "    [ 2000,  3050,  2050,  1980],\n",
    "    [ 7500,  2050,  2050,  1980],\n",
    "    [15450, 15050, 15550, 14900]\n",
    "]\n",
    "\n",
    "result = []\n",
    "\n",
    "for row in data:\n",
    "    a = []  # 빈 리스트 a는 한번 행이 돌고나서 다시 빈 리스트로 돌아와야하니까 반드시 for문 안에 위치해야 함!!!\n",
    "    for col in row:\n",
    "        a.append(col + (col * 0.014 * 0.01))\n",
    "    result.append(a)\n",
    "        \n",
    "print(result)"
   ]
  },
  {
   "cell_type": "code",
   "execution_count": 43,
   "id": "80e438c4",
   "metadata": {},
   "outputs": [
    {
     "name": "stdout",
     "output_type": "stream",
     "text": [
      "100\n",
      "190\n",
      "310\n"
     ]
    }
   ],
   "source": [
    "# 195\n",
    "\n",
    "ohlc = [[\"open\", \"high\", \"low\", \"close\"],\n",
    "        [100, 110, 70, 100],\n",
    "        [200, 210, 180, 190],\n",
    "        [300, 310, 300, 310]]\n",
    "\n",
    "# for i in range(1, 4):\n",
    "#     print(ohlc[i][3])  # 내가 쓴 답....\n",
    "\n",
    "for row in ohlc[1:]:\n",
    "    print(row[3])"
   ]
  },
  {
   "cell_type": "code",
   "execution_count": 44,
   "id": "e5d6611e",
   "metadata": {},
   "outputs": [
    {
     "name": "stdout",
     "output_type": "stream",
     "text": [
      "190\n",
      "310\n"
     ]
    }
   ],
   "source": [
    "# 196\n",
    "\n",
    "ohlc = [[\"open\", \"high\", \"low\", \"close\"],\n",
    "        [100, 110, 70, 100],\n",
    "        [200, 210, 180, 190],\n",
    "        [300, 310, 300, 310]]\n",
    "\n",
    "for row in ohlc[1:]:\n",
    "    if row[3] > 150:\n",
    "        print(row[3])"
   ]
  },
  {
   "cell_type": "code",
   "execution_count": 45,
   "id": "2752bb73",
   "metadata": {},
   "outputs": [
    {
     "name": "stdout",
     "output_type": "stream",
     "text": [
      "100\n",
      "310\n"
     ]
    }
   ],
   "source": [
    "# 197\n",
    "\n",
    "ohlc = [[\"open\", \"high\", \"low\", \"close\"],\n",
    "        [100, 110, 70, 100],\n",
    "        [200, 210, 180, 190],\n",
    "        [300, 310, 300, 310]]\n",
    "\n",
    "for row in ohlc[1:]:\n",
    "    if row[0] <= row[3]:\n",
    "        print(row[3])\n"
   ]
  },
  {
   "cell_type": "code",
   "execution_count": 46,
   "id": "e05f0ee3",
   "metadata": {},
   "outputs": [
    {
     "name": "stdout",
     "output_type": "stream",
     "text": [
      "[40, 30, 10]\n"
     ]
    }
   ],
   "source": [
    "# 198\n",
    "\n",
    "ohlc = [[\"open\", \"high\", \"low\", \"close\"],\n",
    "        [100, 110, 70, 100],\n",
    "        [200, 210, 180, 190],\n",
    "        [300, 310, 300, 310]]\n",
    "\n",
    "volatility = []\n",
    "\n",
    "for row in ohlc[1:]:\n",
    "    volatility.append(row[1] - row[2])\n",
    "    \n",
    "print(volatility)"
   ]
  },
  {
   "cell_type": "code",
   "execution_count": 47,
   "id": "e369d939",
   "metadata": {},
   "outputs": [
    {
     "name": "stdout",
     "output_type": "stream",
     "text": [
      "10\n"
     ]
    }
   ],
   "source": [
    "# 199\n",
    "\n",
    "ohlc = [[\"open\", \"high\", \"low\", \"close\"],\n",
    "        [100, 110, 70, 100],\n",
    "        [200, 210, 180, 190],\n",
    "        [300, 310, 300, 310]]\n",
    "\n",
    "for row in ohlc[1:]:\n",
    "    if row[3] > row[0]:\n",
    "        print(row[1] - row[2])"
   ]
  },
  {
   "cell_type": "code",
   "execution_count": 48,
   "id": "84b361cc",
   "metadata": {},
   "outputs": [
    {
     "name": "stdout",
     "output_type": "stream",
     "text": [
      "0\n"
     ]
    }
   ],
   "source": [
    "# 200\n",
    "\n",
    "ohlc = [[\"open\", \"high\", \"low\", \"close\"],\n",
    "        [100, 110, 70, 100],\n",
    "        [200, 210, 180, 190],\n",
    "        [300, 310, 300, 310]]\n",
    "\n",
    "total = 0\n",
    "\n",
    "for row in ohlc[1:]:\n",
    "    total += row[0] - row[3]\n",
    "\n",
    "print(total)"
   ]
  },
  {
   "cell_type": "code",
   "execution_count": 49,
   "id": "f335ad95",
   "metadata": {},
   "outputs": [],
   "source": [
    "# 201\n",
    "\n",
    "def print_coin():\n",
    "    print(\"비트코인\")"
   ]
  },
  {
   "cell_type": "code",
   "execution_count": 53,
   "id": "2e9cd5a7",
   "metadata": {},
   "outputs": [
    {
     "name": "stdout",
     "output_type": "stream",
     "text": [
      "비트코인\n"
     ]
    }
   ],
   "source": [
    "# 202\n",
    "\n",
    "print_coin()"
   ]
  },
  {
   "cell_type": "code",
   "execution_count": 56,
   "id": "ed3883f4",
   "metadata": {},
   "outputs": [
    {
     "name": "stdout",
     "output_type": "stream",
     "text": [
      "비트코인\n",
      "비트코인\n",
      "비트코인\n",
      "비트코인\n",
      "비트코인\n",
      "비트코인\n",
      "비트코인\n",
      "비트코인\n",
      "비트코인\n",
      "비트코인\n",
      "비트코인\n",
      "비트코인\n",
      "비트코인\n",
      "비트코인\n",
      "비트코인\n",
      "비트코인\n",
      "비트코인\n",
      "비트코인\n",
      "비트코인\n",
      "비트코인\n",
      "비트코인\n",
      "비트코인\n",
      "비트코인\n",
      "비트코인\n",
      "비트코인\n",
      "비트코인\n",
      "비트코인\n",
      "비트코인\n",
      "비트코인\n",
      "비트코인\n",
      "비트코인\n",
      "비트코인\n",
      "비트코인\n",
      "비트코인\n",
      "비트코인\n",
      "비트코인\n",
      "비트코인\n",
      "비트코인\n",
      "비트코인\n",
      "비트코인\n",
      "비트코인\n",
      "비트코인\n",
      "비트코인\n",
      "비트코인\n",
      "비트코인\n",
      "비트코인\n",
      "비트코인\n",
      "비트코인\n",
      "비트코인\n",
      "비트코인\n",
      "비트코인\n",
      "비트코인\n",
      "비트코인\n",
      "비트코인\n",
      "비트코인\n",
      "비트코인\n",
      "비트코인\n",
      "비트코인\n",
      "비트코인\n",
      "비트코인\n",
      "비트코인\n",
      "비트코인\n",
      "비트코인\n",
      "비트코인\n",
      "비트코인\n",
      "비트코인\n",
      "비트코인\n",
      "비트코인\n",
      "비트코인\n",
      "비트코인\n",
      "비트코인\n",
      "비트코인\n",
      "비트코인\n",
      "비트코인\n",
      "비트코인\n",
      "비트코인\n",
      "비트코인\n",
      "비트코인\n",
      "비트코인\n",
      "비트코인\n",
      "비트코인\n",
      "비트코인\n",
      "비트코인\n",
      "비트코인\n",
      "비트코인\n",
      "비트코인\n",
      "비트코인\n",
      "비트코인\n",
      "비트코인\n",
      "비트코인\n",
      "비트코인\n",
      "비트코인\n",
      "비트코인\n",
      "비트코인\n",
      "비트코인\n",
      "비트코인\n",
      "비트코인\n",
      "비트코인\n",
      "비트코인\n",
      "비트코인\n"
     ]
    }
   ],
   "source": [
    "# 203\n",
    "\n",
    "for i in range(100):\n",
    "    print_coin()"
   ]
  },
  {
   "cell_type": "code",
   "execution_count": 57,
   "id": "f714d221",
   "metadata": {},
   "outputs": [],
   "source": [
    "# 204\n",
    "\n",
    "def print_coins():\n",
    "    for i in range(100):\n",
    "        print(\"비트코인\")"
   ]
  },
  {
   "cell_type": "code",
   "execution_count": 61,
   "id": "8d1754c8",
   "metadata": {},
   "outputs": [],
   "source": [
    "# 205\n",
    "\n",
    "# 함수를 정의하기 전에 호출해서."
   ]
  },
  {
   "cell_type": "code",
   "execution_count": 62,
   "id": "58435aa8",
   "metadata": {},
   "outputs": [],
   "source": [
    "# 206\n",
    "\n",
    "# A\n",
    "# B\n",
    "# C\n",
    "# A\n",
    "# B"
   ]
  },
  {
   "cell_type": "code",
   "execution_count": 63,
   "id": "704d49f6",
   "metadata": {},
   "outputs": [],
   "source": [
    "# 207\n",
    "\n",
    "# A\n",
    "# C\n",
    "# B"
   ]
  },
  {
   "cell_type": "code",
   "execution_count": 65,
   "id": "6a21de42",
   "metadata": {},
   "outputs": [],
   "source": [
    "# 208\n",
    "\n",
    "# A\n",
    "# C\n",
    "# B\n",
    "# E\n",
    "# D"
   ]
  },
  {
   "cell_type": "code",
   "execution_count": 66,
   "id": "90996734",
   "metadata": {},
   "outputs": [],
   "source": [
    "# 209\n",
    "\n",
    "# B\n",
    "# A"
   ]
  },
  {
   "cell_type": "code",
   "execution_count": 67,
   "id": "31831c1a",
   "metadata": {},
   "outputs": [],
   "source": [
    "# 210\n",
    "\n",
    "# B\n",
    "# C\n",
    "# B\n",
    "# C\n",
    "# B\n",
    "# C\n",
    "# A"
   ]
  },
  {
   "cell_type": "code",
   "execution_count": 68,
   "id": "2ede205b",
   "metadata": {},
   "outputs": [],
   "source": [
    "# 211\n",
    "\n",
    "# 안녕\n",
    "# Hi"
   ]
  },
  {
   "cell_type": "code",
   "execution_count": 69,
   "id": "20561db8",
   "metadata": {},
   "outputs": [],
   "source": [
    "# 212\n",
    "\n",
    "# 7\n",
    "# 15"
   ]
  },
  {
   "cell_type": "code",
   "execution_count": 70,
   "id": "60d0362e",
   "metadata": {},
   "outputs": [],
   "source": [
    "# 213\n",
    "\n",
    "# 인자가 하나 들어가게끔 함수가 정의되어있는데, 함수 호출 시 인자(파라미터)가 들어가지 않아서."
   ]
  },
  {
   "cell_type": "code",
   "execution_count": 71,
   "id": "9c390a2a",
   "metadata": {},
   "outputs": [],
   "source": [
    "# 214\n",
    "\n",
    "# 문자열과 정수형을 합치려고 해서. "
   ]
  },
  {
   "cell_type": "code",
   "execution_count": 72,
   "id": "8cf86611",
   "metadata": {},
   "outputs": [],
   "source": [
    "# 215\n",
    "\n",
    "def print_with_smile(str):\n",
    "    print(str, \":D\")  # 답지에는 + 라고 되어있는데 콤마와 더하기가 뭐가 다른지...?\n",
    "    "
   ]
  },
  {
   "cell_type": "code",
   "execution_count": 73,
   "id": "a97e1597",
   "metadata": {},
   "outputs": [
    {
     "name": "stdout",
     "output_type": "stream",
     "text": [
      "안녕하세요 :D\n"
     ]
    }
   ],
   "source": [
    "# 216\n",
    "\n",
    "print_with_smile(\"안녕하세요\")"
   ]
  },
  {
   "cell_type": "code",
   "execution_count": 74,
   "id": "af167927",
   "metadata": {},
   "outputs": [],
   "source": [
    "# 217\n",
    "\n",
    "def print_upper_price(int):\n",
    "    print(int * 1.3)"
   ]
  },
  {
   "cell_type": "code",
   "execution_count": 75,
   "id": "c892cb99",
   "metadata": {},
   "outputs": [],
   "source": [
    "# 218\n",
    "\n",
    "def print_sum(a, b):\n",
    "    print(a + b)"
   ]
  },
  {
   "cell_type": "code",
   "execution_count": 76,
   "id": "00fa98e5",
   "metadata": {},
   "outputs": [],
   "source": [
    "# 219\n",
    "\n",
    "def print_arithmetic_operation(a, b):\n",
    "    print(a, \"+\", b, a + b)\n",
    "    print(a, \"-\", b, a - b)\n",
    "    print(a, \"*\", b, a * b)\n",
    "    print(a, \"/\", b, a / b)"
   ]
  },
  {
   "cell_type": "code",
   "execution_count": 78,
   "id": "526d96fa",
   "metadata": {},
   "outputs": [],
   "source": [
    "# 220\n",
    "\n",
    "# def print_max(a, b, c):  내가 쓴 거지같은 함수....^^\n",
    "#     if a >= b and a >= c:\n",
    "#         print(a)\n",
    "#     elif b >= a and b >= c:\n",
    "#         print(b)\n",
    "#     elif c >= a and c >= b:\n",
    "#         print(c)\n",
    "\n",
    "def print_max(a, b, c):\n",
    "    max_value = 0\n",
    "    if a > max_value:\n",
    "        max_value = a\n",
    "    if b > max_value:\n",
    "        max_value = b\n",
    "    if c > max_value:\n",
    "        max_value = c\n",
    "    print(max_value)\n",
    "    "
   ]
  },
  {
   "cell_type": "code",
   "execution_count": 79,
   "id": "e8ce135b",
   "metadata": {},
   "outputs": [],
   "source": [
    "# 221\n",
    "\n",
    "def print_reverse(str):\n",
    "    print(str[::-1])"
   ]
  },
  {
   "cell_type": "code",
   "execution_count": 83,
   "id": "359560b5",
   "metadata": {},
   "outputs": [],
   "source": [
    "# 222\n",
    "\n",
    "def print_score(list):  # 인자(파라미터)자리에 리스트를 직접 입력해서 받는 건 안되는 것 같다!\n",
    "    print(sum(list) / len([list]))"
   ]
  },
  {
   "cell_type": "code",
   "execution_count": 85,
   "id": "e931da3b",
   "metadata": {},
   "outputs": [
    {
     "name": "stdout",
     "output_type": "stream",
     "text": [
      "2\n",
      "10\n",
      "12\n"
     ]
    }
   ],
   "source": [
    "# 223\n",
    "\n",
    "def print_even(list):\n",
    "    for i in list:\n",
    "        if i % 2 == 0:\n",
    "            print(i)\n",
    "            \n",
    "print_even([1, 3, 2, 10, 12, 11, 15])"
   ]
  },
  {
   "cell_type": "code",
   "execution_count": 87,
   "id": "61f8f6ed",
   "metadata": {},
   "outputs": [
    {
     "name": "stdout",
     "output_type": "stream",
     "text": [
      "이름\n",
      "나이\n",
      "성별\n"
     ]
    }
   ],
   "source": [
    "# 224\n",
    "\n",
    "# def print_keys(dict):\n",
    "#     print(dict.keys())\n",
    "\n",
    "def print_keys(dict):\n",
    "    for key in dict.keys():\n",
    "        print(key)\n",
    "    \n",
    "print_keys ({\"이름\":\"김말똥\", \"나이\":30, \"성별\":0})"
   ]
  },
  {
   "cell_type": "code",
   "execution_count": 89,
   "id": "8c0e8a8e",
   "metadata": {},
   "outputs": [
    {
     "name": "stdout",
     "output_type": "stream",
     "text": [
      "[100, 130, 100, 100]\n"
     ]
    }
   ],
   "source": [
    "# 225\n",
    "\n",
    "def print_value_by_key(my_dict, date):\n",
    "    print(my_dict[date])\n",
    "    \n",
    "my_dict = {\"10/26\" : [100, 130, 100, 100],\n",
    "           \"10/27\" : [10, 12, 10, 11]}\n",
    "\n",
    "print_value_by_key(my_dict, \"10/26\")"
   ]
  },
  {
   "cell_type": "code",
   "execution_count": 95,
   "id": "677030ee",
   "metadata": {},
   "outputs": [
    {
     "name": "stdout",
     "output_type": "stream",
     "text": [
      "아이엠어보\n",
      "이유알어걸\n"
     ]
    }
   ],
   "source": [
    "# 226\n",
    "\n",
    "def print_5xn(str):\n",
    "    for i in range(1, len(str)+1):\n",
    "        if i % 5 == 0:\n",
    "            print(str[i-5:i])\n",
    "        \n",
    "print_5xn(\"아이엠어보이유알어걸\")\n",
    "\n",
    "# def print_5xn(line):\n",
    "#     chunk_num = int(len(line) / 5)\n",
    "#     for x in range(chunk_num + 1) :\n",
    "#         print(line[x * 5: x * 5 + 5])  얘는 답안지!"
   ]
  },
  {
   "cell_type": "code",
   "execution_count": 122,
   "id": "83ef64ed",
   "metadata": {},
   "outputs": [
    {
     "name": "stdout",
     "output_type": "stream",
     "text": [
      "아이엠\n",
      "어보이\n",
      "유알어\n",
      "걸\n"
     ]
    }
   ],
   "source": [
    "# 227\n",
    "\n",
    "# def printmxn(string, cnt):\n",
    "#     for i in range(1, len(string)+1):\n",
    "#         if i % 3 == 0:\n",
    "#             print(string[i-3:i])  # 이 방법(3의 배수)으로 하면 딱 세글자로 떨어지는 것 밖에 안나온다. \n",
    "            \n",
    "# printmxn(\"아이엠어보이유알어걸\", 3)\n",
    "\n",
    "def printmxn(string, cnt):\n",
    "    for i in range(int(len(string) / cnt) + 1):\n",
    "        print(string[i * 3:i * 3 + 3])\n",
    "\n",
    "printmxn(\"아이엠어보이유알어걸\", 3)"
   ]
  },
  {
   "cell_type": "code",
   "execution_count": 118,
   "id": "4337b6b8",
   "metadata": {},
   "outputs": [
    {
     "data": {
      "text/plain": [
       "1000000"
      ]
     },
     "execution_count": 118,
     "metadata": {},
     "output_type": "execute_result"
    }
   ],
   "source": [
    "# 228\n",
    "\n",
    "def calc_monthly_salary(number):\n",
    "    return int(number / 12)\n",
    "\n",
    "calc_monthly_salary(12000000)"
   ]
  },
  {
   "cell_type": "code",
   "execution_count": 123,
   "id": "b33ab5ec",
   "metadata": {},
   "outputs": [],
   "source": [
    "# 229\n",
    "\n",
    "# 왼쪽: 100 오른쪽: 200\n"
   ]
  },
  {
   "cell_type": "code",
   "execution_count": 124,
   "id": "b103515d",
   "metadata": {},
   "outputs": [],
   "source": [
    "# 230\n",
    "\n",
    "# 왼쪽: 200 오른쪽: 100"
   ]
  },
  {
   "cell_type": "code",
   "execution_count": 126,
   "id": "f6e957fd",
   "metadata": {},
   "outputs": [],
   "source": [
    "# 231\n",
    "\n",
    "# 에러가 난다. return이 없기 때문에."
   ]
  },
  {
   "cell_type": "code",
   "execution_count": 130,
   "id": "dc82acbc",
   "metadata": {},
   "outputs": [
    {
     "name": "stdout",
     "output_type": "stream",
     "text": [
      "www.naver.com\n"
     ]
    }
   ],
   "source": [
    "# 232\n",
    "\n",
    "def make_url(string):\n",
    "    print(f'www.{string}.com')\n",
    "    \n",
    "make_url(\"naver\")"
   ]
  },
  {
   "cell_type": "code",
   "execution_count": 131,
   "id": "f0cdf97f",
   "metadata": {},
   "outputs": [
    {
     "data": {
      "text/plain": [
       "['a', 'b', 'c', 'd']"
      ]
     },
     "execution_count": 131,
     "metadata": {},
     "output_type": "execute_result"
    }
   ],
   "source": [
    "# 233\n",
    "\n",
    "def make_list(string):\n",
    "    return list(string)\n",
    "\n",
    "make_list(\"abcd\")\n"
   ]
  },
  {
   "cell_type": "code",
   "execution_count": 132,
   "id": "d6a3d31c",
   "metadata": {},
   "outputs": [
    {
     "name": "stdout",
     "output_type": "stream",
     "text": [
      "[4, 6, 8]\n"
     ]
    }
   ],
   "source": [
    "# 234\n",
    "\n",
    "def pickup_even(l):\n",
    "    empty_list = []\n",
    "    for i in l:\n",
    "        if i % 2 == 0:\n",
    "            empty_list.append(i)\n",
    "    print(empty_list)\n",
    "    \n",
    "pickup_even([3, 4, 5, 6, 7, 8])"
   ]
  },
  {
   "cell_type": "code",
   "execution_count": 143,
   "id": "3c646297",
   "metadata": {},
   "outputs": [
    {
     "data": {
      "text/plain": [
       "1234567"
      ]
     },
     "execution_count": 143,
     "metadata": {},
     "output_type": "execute_result"
    }
   ],
   "source": [
    "# 235\n",
    "\n",
    "# def convert_int(string):\n",
    "#     a = string.split(',')\n",
    "#     return int(''.join(a))   \n",
    "\n",
    "# convert_int(\"1,234,567\")  내가 작성한 코드......\n",
    "\n",
    "def convert_int(string):\n",
    "    return int(string.replace(',', ''))  # 메서드를 잘 외우자...!!^^\n",
    "\n",
    "convert_int(\"1,234,567\")"
   ]
  },
  {
   "cell_type": "code",
   "execution_count": 144,
   "id": "1e354a01",
   "metadata": {},
   "outputs": [],
   "source": [
    "# 236\n",
    "\n",
    "# 22"
   ]
  },
  {
   "cell_type": "code",
   "execution_count": 145,
   "id": "e726afa2",
   "metadata": {},
   "outputs": [],
   "source": [
    "# 237\n",
    "\n",
    "# 22"
   ]
  },
  {
   "cell_type": "code",
   "execution_count": 146,
   "id": "707446c2",
   "metadata": {},
   "outputs": [],
   "source": [
    "# 238\n",
    "\n",
    "# 140"
   ]
  },
  {
   "cell_type": "code",
   "execution_count": 147,
   "id": "45aac4aa",
   "metadata": {},
   "outputs": [],
   "source": [
    "# 239\n",
    "\n",
    "# 16"
   ]
  },
  {
   "cell_type": "code",
   "execution_count": 148,
   "id": "8ca7c4ce",
   "metadata": {},
   "outputs": [],
   "source": [
    "# 240\n",
    "\n",
    "# 28"
   ]
  },
  {
   "cell_type": "code",
   "execution_count": 149,
   "id": "31baccd4",
   "metadata": {},
   "outputs": [],
   "source": [
    "# 241 - # 250 은 모듈 문제라서 PASS"
   ]
  },
  {
   "cell_type": "code",
   "execution_count": 150,
   "id": "f7c3ba4f",
   "metadata": {},
   "outputs": [
    {
     "ename": "SyntaxError",
     "evalue": "invalid syntax (2959443196.py, line 4)",
     "output_type": "error",
     "traceback": [
      "\u001b[0;36m  Cell \u001b[0;32mIn[150], line 4\u001b[0;36m\u001b[0m\n\u001b[0;31m    클래스는 공통된 속성과 조작법을 가진 객체들의 분류이다.\u001b[0m\n\u001b[0m         ^\u001b[0m\n\u001b[0;31mSyntaxError\u001b[0m\u001b[0;31m:\u001b[0m invalid syntax\n"
     ]
    }
   ],
   "source": [
    "# 251\n",
    "\n",
    "# 클래스 : 인스턴스들을 묶어놓은 상위개념..\n",
    "클래스는 공통된 속성과 조작법을 가진 객체들의 분류이다.\n",
    "# 객체 : 값. \n",
    "값. 파이썬에 있는 모든 것은 객체이다. \n",
    "# 인스턴스 : 객체... \n",
    "인스턴스는 특정 클래스의 실제 데이터 예시(instance)이다.\n",
    "파이썬에서 모든 것은 객체이고, 모든 객체는 특정 클래스의 인스턴스이다. "
   ]
  },
  {
   "cell_type": "code",
   "execution_count": 183,
   "id": "a4993d7f",
   "metadata": {},
   "outputs": [],
   "source": [
    "# 252\n",
    "\n",
    "class Human:\n",
    "    pass"
   ]
  },
  {
   "cell_type": "code",
   "execution_count": 153,
   "id": "ec72be0c",
   "metadata": {},
   "outputs": [
    {
     "data": {
      "text/plain": [
       "__main__.Human"
      ]
     },
     "execution_count": 153,
     "metadata": {},
     "output_type": "execute_result"
    }
   ],
   "source": [
    "# 253\n",
    "\n",
    "areum = Human()\n",
    "\n",
    "# 클래스의 인스턴스는 클래스를 호출함으로써 생성된다!!!\n",
    "\n",
    "type(areum)"
   ]
  },
  {
   "cell_type": "code",
   "execution_count": 182,
   "id": "89ecd564",
   "metadata": {},
   "outputs": [
    {
     "name": "stdout",
     "output_type": "stream",
     "text": [
      "응애응애\n"
     ]
    }
   ],
   "source": [
    "# 254\n",
    "\n",
    "class Human:\n",
    "    def __init__(self):\n",
    "        print(\"응애응애\")\n",
    "        \n",
    "areum = Human()\n",
    "\n",
    "# 생성자 추가와 속성 추가는 결과적으로는 같다. 하지만, 속성은 이미 클래스나 인스턴스가 정의된 이후에도 추가할 수 있고, \n",
    "# 생성자 추가의 단계에서 예를들어, self, name, age 인자를 받겠다고 정의를 하면, 나중에 호출할때 name이나 age가 없으면 error가 일어난다. "
   ]
  },
  {
   "cell_type": "code",
   "execution_count": 181,
   "id": "0d115ced",
   "metadata": {},
   "outputs": [
    {
     "name": "stdout",
     "output_type": "stream",
     "text": [
      "아름\n"
     ]
    }
   ],
   "source": [
    "# 255\n",
    "\n",
    "class Human:\n",
    "    def __init__(self, name, age, sex):\n",
    "        self.name = name\n",
    "        self.age = age\n",
    "        self.sex = sex\n",
    "\n",
    "areum = Human(\"아름\", 25, \"여자\")\n",
    "print(areum.name)"
   ]
  },
  {
   "cell_type": "code",
   "execution_count": 180,
   "id": "6bdfae77",
   "metadata": {},
   "outputs": [
    {
     "name": "stdout",
     "output_type": "stream",
     "text": [
      "이름: 아름\n",
      "나이: 25\n",
      "성별: 여자\n"
     ]
    }
   ],
   "source": [
    "# 256\n",
    "\n",
    "class Human:\n",
    "    def __init__(self, name, age, sex):\n",
    "        self.name = name\n",
    "        self.age = age\n",
    "        self.sex = sex\n",
    "        \n",
    "areum = Human(\"아름\", 25, \"여자\")\n",
    "\n",
    "print(f'이름: {areum.name}')\n",
    "print(f'나이: {areum.age}')\n",
    "print(f'성별: {areum.sex}')"
   ]
  },
  {
   "cell_type": "code",
   "execution_count": 179,
   "id": "8a7b6743",
   "metadata": {},
   "outputs": [
    {
     "name": "stdout",
     "output_type": "stream",
     "text": [
      "이름: 아름, 나이: 25, 성별: 여자\n"
     ]
    }
   ],
   "source": [
    "# 257\n",
    "\n",
    "class Human:\n",
    "    def __init__(self, name, age, sex):\n",
    "        self.name = name\n",
    "        self.age = age\n",
    "        self.sex = sex\n",
    "    \n",
    "    def who(self):\n",
    "        return f'이름: {self.name}, 나이: {self.age}, 성별: {self.sex}'\n",
    "        # 위의 생성자 메서드에서 지정해준 속성을 {}안에 써야한다! 그냥 name 이래버리면 안나옴...\n",
    "        \n",
    "areum = Human(\"아름\", 25, \"여자\")\n",
    "\n",
    "print(areum.who())\n"
   ]
  },
  {
   "cell_type": "code",
   "execution_count": 178,
   "id": "abe0dd6f",
   "metadata": {},
   "outputs": [
    {
     "data": {
      "text/plain": [
       "'이름: 아름, 나이: 25, 성별: 여자'"
      ]
     },
     "execution_count": 178,
     "metadata": {},
     "output_type": "execute_result"
    }
   ],
   "source": [
    "# 258\n",
    "\n",
    "class Human:\n",
    "    def __init__(self, name, age, sex):\n",
    "        self.name = name\n",
    "        self.age = age\n",
    "        self.sex = sex\n",
    "        \n",
    "    def who(self):\n",
    "        return f'이름: {self.name}, 나이: {self.age}, 성별: {self.sex}'\n",
    "    \n",
    "    def setInfo(self, name, age, sex):\n",
    "        self.name = name\n",
    "        self.age = age\n",
    "        self.sex = sex\n",
    "        \n",
    "areum = Human(\"모름\", 0, \"모름\")\n",
    "\n",
    "areum.setInfo(\"아름\", 25, \"여자\")\n",
    "areum.who()"
   ]
  },
  {
   "cell_type": "code",
   "execution_count": 184,
   "id": "905dfb4b",
   "metadata": {},
   "outputs": [
    {
     "name": "stdout",
     "output_type": "stream",
     "text": [
      "나의 죽음을 알리지 말라\n"
     ]
    }
   ],
   "source": [
    "# 259\n",
    "\n",
    "class Human:\n",
    "    def __init__(self, name, age, sex):\n",
    "        self.name = name\n",
    "        self.age = age\n",
    "        self.sex = sex\n",
    "        \n",
    "    def who(self):\n",
    "        return f'이름: {self.name}, 나이: {self.age}, 성별: {self.sex}'\n",
    "    \n",
    "    def setInfo(self, name, age, sex):\n",
    "        self.name = name\n",
    "        self.age = age\n",
    "        self.sex = sex\n",
    "        \n",
    "    def __del__(self):\n",
    "        print(\"나의 죽음을 알리지 말라\")\n",
    "        \n",
    "\n",
    "areum = Human(\"아름\", 25, \"여자\")\n",
    "\n",
    "del areum"
   ]
  },
  {
   "cell_type": "code",
   "execution_count": 186,
   "id": "fd9c7288",
   "metadata": {},
   "outputs": [
    {
     "name": "stdout",
     "output_type": "stream",
     "text": [
      "Oh my god\n"
     ]
    }
   ],
   "source": [
    "# 260\n",
    "\n",
    "# 클래스 내 인스턴스 메서드를 생성할 때 self 인자를 추가하지 않아서. \n",
    "\n",
    "class OMG : \n",
    "    def print(self) :\n",
    "        print(\"Oh my god\")\n",
    "\n",
    "# >>> >>> myStock = OMG()\n",
    "# >>> myStock.print()\n",
    "# TypeError Traceback (most recent call last)\n",
    "# <ipython-input-233-c85c04535b22> in <module>()\n",
    "# ----> myStock.print()\n",
    "\n",
    "# TypeError: print() takes 0 positional arguments but 1 was given\n",
    "\n",
    "myStock = OMG()\n",
    "\n",
    "myStock.print()"
   ]
  },
  {
   "cell_type": "code",
   "execution_count": 187,
   "id": "eb123cbc",
   "metadata": {},
   "outputs": [],
   "source": [
    "# 261\n",
    "\n",
    "class Stock:\n",
    "    pass\n"
   ]
  },
  {
   "cell_type": "code",
   "execution_count": 189,
   "id": "e7734558",
   "metadata": {},
   "outputs": [
    {
     "name": "stdout",
     "output_type": "stream",
     "text": [
      "삼성전자\n",
      "005930\n"
     ]
    }
   ],
   "source": [
    "# 262\n",
    "\n",
    "class Stock:\n",
    "    def __init__(self, 종목명, 종목코드):\n",
    "        self.종목명 = 종목명\n",
    "        self.종목코드 = 종목코드\n",
    "        \n",
    "삼성 = Stock(\"삼성전자\", \"005930\")\n",
    "print(삼성.종목명)\n",
    "print(삼성.종목코드)\n"
   ]
  },
  {
   "cell_type": "code",
   "execution_count": 197,
   "id": "307c7b6d",
   "metadata": {},
   "outputs": [
    {
     "name": "stdout",
     "output_type": "stream",
     "text": [
      "삼성전자\n"
     ]
    }
   ],
   "source": [
    "# 263\n",
    "\n",
    "class Stock:\n",
    "    def __init__(self, 종목명, 종목코드):\n",
    "        self.종목명 = 종목명\n",
    "        self.종목코드 = 종목코드\n",
    "        \n",
    "#     def set_name(self, 종목명):\n",
    "#         return f'{종목명}'\n",
    "\n",
    "    def set_name(self, 종목명):\n",
    "        self.종목명 = 종목명\n",
    "\n",
    "a = Stock(None, None)\n",
    "a.set_name(\"삼성전자\")\n",
    "print(a.종목명)\n",
    "\n",
    "# 내가 위에 쓴 코드는 함수를 호출할 때!!! -> print(a.set_name(종목명))\n",
    "# 답지에 쓰여 있는 코드는 속성을 호출할 때!! -> print(a.종목명)"
   ]
  },
  {
   "cell_type": "code",
   "execution_count": 200,
   "id": "e801c83c",
   "metadata": {},
   "outputs": [
    {
     "name": "stdout",
     "output_type": "stream",
     "text": [
      "005930\n"
     ]
    }
   ],
   "source": [
    "# 264\n",
    "\n",
    "class Stock:\n",
    "    def __init__(self, 종목명, 종목코드):\n",
    "        self.종목명 = 종목명\n",
    "        self.종목코드 = 종목코드\n",
    "    \n",
    "    def set_code(self, 종목코드):\n",
    "        self.종목코드 = 종목코드\n",
    "\n",
    "a = Stock(None, None)\n",
    "a.set_code(\"005930\")\n",
    "print(a.종목코드)\n"
   ]
  },
  {
   "cell_type": "code",
   "execution_count": 202,
   "id": "9acebb22",
   "metadata": {},
   "outputs": [
    {
     "name": "stdout",
     "output_type": "stream",
     "text": [
      "삼성전자\n",
      "005930\n"
     ]
    }
   ],
   "source": [
    "# 265\n",
    "\n",
    "class Stock:\n",
    "    def __init__(self, 종목명, 종목코드):\n",
    "        self.종목명 = 종목명\n",
    "        self.종목코드 = 종목코드\n",
    "        \n",
    "    def set_name(self, 종목명):\n",
    "        self.종목명 = 종목명\n",
    "\n",
    "    def set_code(self, 종목코드):\n",
    "        self.종목코드 = 종목코드\n",
    "    \n",
    "    def get_name(self):\n",
    "        return f'{self.종목명}'\n",
    "    \n",
    "    def get_code(self):\n",
    "        return f'{self.종목코드}'\n",
    "\n",
    "삼성 = Stock(\"삼성전자\", \"005930\")\n",
    "\n",
    "print(삼성.get_name())\n",
    "print(삼성.get_code())"
   ]
  },
  {
   "cell_type": "code",
   "execution_count": 203,
   "id": "f7048ca3",
   "metadata": {},
   "outputs": [],
   "source": [
    "# 266\n",
    "\n",
    "class Stock:\n",
    "    def __init__(self, 종목명, 종목코드, PER, PBR, 배당수익률):\n",
    "        self.종목명 = 종목명\n",
    "        self.종목코드 = 종목코드\n",
    "        self.PER = float(PER)  # 굳이 float를 쓰지 않아도 되는 것 같다...?\n",
    "        self.PBR = float(PBR)\n",
    "        self.배당수익률 = float(배당수익률)\n",
    "        \n",
    "    def set_name(self, 종목명):\n",
    "        self.종목명 = 종목명\n",
    "\n",
    "    def set_code(self, 종목코드):\n",
    "        self.종목코드 = 종목코드\n",
    "    \n",
    "    def get_name(self):\n",
    "        return f'{self.종목명}'\n",
    "    \n",
    "    def get_code(self):\n",
    "        return f'{self.종목코드}'"
   ]
  },
  {
   "cell_type": "code",
   "execution_count": 205,
   "id": "46f09709",
   "metadata": {},
   "outputs": [],
   "source": [
    "# 267\n",
    "\n",
    "class Stock:\n",
    "    def __init__(self, 종목명, 종목코드, per, pbr, 배당수익률):\n",
    "        self.종목명 = 종목명\n",
    "        self.종목코드 = 종목코드\n",
    "        self.per = per\n",
    "        self.pbr = pbr\n",
    "        self.배당수익률 = 배당수익률\n",
    "        \n",
    "    def set_name(self, 종목명):\n",
    "        self.종목명 = 종목명\n",
    "\n",
    "    def set_code(self, 종목코드):\n",
    "        self.종목코드 = 종목코드\n",
    "    \n",
    "    def get_name(self):\n",
    "        return f'{self.종목명}'\n",
    "    \n",
    "    def get_code(self):\n",
    "        return f'{self.종목코드}'\n",
    "    \n",
    "my_instance = Stock('삼성전자', '005930', '15.79', '1.33', '2.83')\n",
    "\n"
   ]
  },
  {
   "cell_type": "code",
   "execution_count": 206,
   "id": "7d878f58",
   "metadata": {},
   "outputs": [],
   "source": [
    "# 268\n",
    "\n",
    "class Stock:\n",
    "    def __init__(self, 종목명, 종목코드, per, pbr, 배당수익률):\n",
    "        self.종목명 = 종목명\n",
    "        self.종목코드 = 종목코드\n",
    "        self.per = per\n",
    "        self.pbr = pbr\n",
    "        self.배당수익률 = 배당수익률\n",
    "        \n",
    "    def set_name(self, 종목명):\n",
    "        self.종목명 = 종목명\n",
    "\n",
    "    def set_code(self, 종목코드):\n",
    "        self.종목코드 = 종목코드\n",
    "        \n",
    "    def set_per(self, per):\n",
    "        self.per = per\n",
    "    \n",
    "    def set_pbr(self, pbr):\n",
    "        self.pbr = pbr\n",
    "    \n",
    "    def set_배당수익률(self, 배당수익률):\n",
    "        self.배당수익률 = 배당수익률\n",
    "    \n",
    "    def get_name(self):\n",
    "        return f'{self.종목명}'\n",
    "    \n",
    "    def get_code(self):\n",
    "        return f'{self.종목코드}'"
   ]
  },
  {
   "cell_type": "code",
   "execution_count": 207,
   "id": "f2e4a919",
   "metadata": {},
   "outputs": [
    {
     "name": "stdout",
     "output_type": "stream",
     "text": [
      "12.75\n"
     ]
    }
   ],
   "source": [
    "# 269\n",
    "\n",
    "삼성 = Stock('삼성전자', '005930', '15.79', '1.33', '2.83')\n",
    "\n",
    "삼성.set_per(12.75)\n",
    "\n",
    "print(삼성.per)\n"
   ]
  },
  {
   "cell_type": "code",
   "execution_count": 208,
   "id": "63b7b74e",
   "metadata": {},
   "outputs": [
    {
     "name": "stdout",
     "output_type": "stream",
     "text": [
      "005930 15.79\n",
      "005380 8.70\n",
      "066570 317.34\n"
     ]
    }
   ],
   "source": [
    "# 270\n",
    "\n",
    "삼성 = Stock('삼성전자', '005930', '15.79', '1.33', '2.83')\n",
    "현대 = Stock('현대차', '005380', '8.70', '0.35', '4.27')\n",
    "엘지 = Stock('LG전자', '066570', '317.34', '0.69', '1.37')\n",
    "\n",
    "my_list = [삼성, 현대, 엘지]\n",
    "\n",
    "for i in my_list:\n",
    "    print(i.종목코드, i.per)"
   ]
  },
  {
   "cell_type": "code",
   "execution_count": 211,
   "id": "fd5ff31e",
   "metadata": {},
   "outputs": [
    {
     "name": "stdout",
     "output_type": "stream",
     "text": [
      "김민수\n",
      "100\n",
      "SC은행\n",
      "613-32-856008\n"
     ]
    }
   ],
   "source": [
    "# 271\n",
    "\n",
    "import random\n",
    "\n",
    "class Account:\n",
    "    def __init__(self, 예금주, 잔액):\n",
    "        self.은행이름 = 'SC은행'\n",
    "        self.예금주 = 예금주\n",
    "        self.잔액 = 잔액\n",
    "        \n",
    "        num1 = random.randint(0, 999)\n",
    "        num2 = random.randint(0, 99)\n",
    "        num3 = random.randint(0, 999999)\n",
    "\n",
    "        num1 = str(num1).zfill(3)      # 1 -> '1' -> '001'\n",
    "        num2 = str(num2).zfill(2)      # 1 -> '1' -> '01'\n",
    "        num3 = str(num3).zfill(6)      # 1 -> '1' -> '0000001'\n",
    "        \n",
    "        self.account_number = num1 + '-' + num2 + '-' + num3  # 001-01-000001\n",
    "        \n",
    "kim = Account(\"김민수\", 100)\n",
    "print(kim.예금주)\n",
    "print(kim.잔액)\n",
    "print(kim.은행이름)\n",
    "print(kim.account_number)"
   ]
  },
  {
   "cell_type": "code",
   "execution_count": 215,
   "id": "a02e9dd5",
   "metadata": {},
   "outputs": [],
   "source": [
    "# 272\n",
    "\n",
    "import random\n",
    "\n",
    "class Account:\n",
    "    account_count = 0  # 처음에 갯수를 0이라고 설정을 해두고, 맨 아래에 += 를 써준다!\n",
    "    \n",
    "    def __init__(self, 예금주, 잔액):\n",
    "        self.은행이름 = 'SC은행'\n",
    "        self.예금주 = 예금주\n",
    "        self.잔액 = 잔액\n",
    "        \n",
    "        num1 = random.randint(0, 999)\n",
    "        num2 = random.randint(0, 99)\n",
    "        num3 = random.randint(0, 999999)\n",
    "\n",
    "        num1 = str(num1).zfill(3)      # 1 -> '1' -> '001'\n",
    "        num2 = str(num2).zfill(2)      # 1 -> '1' -> '01'\n",
    "        num3 = str(num3).zfill(6)      # 1 -> '1' -> '0000001'\n",
    "        \n",
    "        self.account_number = num1 + '-' + num2 + '-' + num3  # 001-01-000001\n",
    "    \n",
    "        Account.account_count += 1  # 생성자 메서드 정의 안에 들어가 있어야 한다... 왜인지는 모르겠지만.\n",
    "        "
   ]
  },
  {
   "cell_type": "code",
   "execution_count": 218,
   "id": "050a0b94",
   "metadata": {},
   "outputs": [
    {
     "name": "stdout",
     "output_type": "stream",
     "text": [
      "2\n"
     ]
    }
   ],
   "source": [
    "# 273\n",
    "\n",
    "import random\n",
    "\n",
    "class Account:\n",
    "    account_count = 0  # 처음에 갯수를 0이라고 설정을 해두고, 맨 아래에 += 를 써준다!\n",
    "    \n",
    "    def __init__(self, 예금주, 잔액):\n",
    "        self.은행이름 = 'SC은행'\n",
    "        self.예금주 = 예금주\n",
    "        self.잔액 = 잔액\n",
    "        \n",
    "        num1 = random.randint(0, 999)\n",
    "        num2 = random.randint(0, 99)\n",
    "        num3 = random.randint(0, 999999)\n",
    "\n",
    "        num1 = str(num1).zfill(3)      # 1 -> '1' -> '001' 애초에 문자열 메서드이기 때문에 str 형변환 필요!\n",
    "        num2 = str(num2).zfill(2)      # 1 -> '1' -> '01'\n",
    "        num3 = str(num3).zfill(6)      # 1 -> '1' -> '0000001'\n",
    "        \n",
    "        self.account_number = num1 + '-' + num2 + '-' + num3  # 001-01-000001\n",
    "    \n",
    "        Account.account_count += 1  # 생성자 메서드 정의 안에 들어가 있어야 한다... 왜인지는 모르겠지만.\n",
    "        \n",
    "#     def get_account_num(self):\n",
    "#         return f'{Account.account_count}' # 내가 쓴 코드\n",
    "\n",
    "    @classmethod\n",
    "    def get_account_num(cls):\n",
    "        print(Account.account_count)  # 왜 꼭 클래스 메서드로 생성해야하는지는 모르겠다..! 아마 클래스 변수를 가져와서 그런게 아닐까\n",
    "        \n",
    "        # 클래스 자체(cls)와 클래스 속성에 접근할 필요가 있다면 클래스 메서드로 정의한다!\n",
    "    \n",
    "    \n",
    "kim = Account(\"김민수\", 100)\n",
    "lee = Account(\"이민수\", 100)\n",
    "kim.get_account_num()"
   ]
  },
  {
   "cell_type": "code",
   "execution_count": 221,
   "id": "ffbec96c",
   "metadata": {},
   "outputs": [],
   "source": [
    "# 274\n",
    "\n",
    "import random\n",
    "\n",
    "class Account:\n",
    "    account_count = 0\n",
    "    \n",
    "    def __init__(self, name, balance):\n",
    "        self.bank = 'sc은행'\n",
    "        self.name = name\n",
    "        self.balance = balance\n",
    "        \n",
    "        num1 = random.randint(0, 999)\n",
    "        num2 = random.randint(0, 99)\n",
    "        num3 = random.randint(0, 999999)\n",
    "        \n",
    "        num1 = str(num1).zfill(3)\n",
    "        num2 = str(num2).zfill(2)\n",
    "        num3 = str(num3).zfill(6)\n",
    "        \n",
    "        self.account_number = num1 + '-' + num2 + '-' + num3\n",
    "        \n",
    "        Account.account_count += 1\n",
    "        \n",
    "    @classmethod\n",
    "    def get_account_num(cls):\n",
    "        print(Account.account_count)\n",
    "        \n",
    "    def deposit(self, money_in):\n",
    "        if int(money) >= 1:\n",
    "            self.balance += money_in\n",
    "            return self.balance\n",
    "        else:\n",
    "            return '1원 이상 입금 가능합니다.'\n",
    "        "
   ]
  },
  {
   "cell_type": "code",
   "execution_count": 224,
   "id": "d82db88d",
   "metadata": {},
   "outputs": [
    {
     "name": "stdout",
     "output_type": "stream",
     "text": [
      "110\n"
     ]
    }
   ],
   "source": [
    "# 275\n",
    "\n",
    "import random\n",
    "\n",
    "class Account:\n",
    "    account_count = 0\n",
    "    \n",
    "    def __init__(self, name, balance):\n",
    "        self.bank = 'sc은행'\n",
    "        self.name = name\n",
    "        self.balance = balance\n",
    "        \n",
    "        num1 = random.randint(0, 999)\n",
    "        num2 = random.randint(0, 99)\n",
    "        num3 = random.randint(0, 999999)\n",
    "        \n",
    "        num1 = str(num1).zfill(3)\n",
    "        num2 = str(num2).zfill(2)\n",
    "        num3 = str(num3).zfill(6)\n",
    "        \n",
    "        self.account_number = num1 + '-' + num2 + '-' + num3\n",
    "        \n",
    "        Account.account_count += 1\n",
    "        \n",
    "    @classmethod\n",
    "    def get_account_num(cls):\n",
    "        print(Account.account_count)\n",
    "        \n",
    "    def deposit(self, money_in):\n",
    "        if int(money_in) >= 1:\n",
    "            self.balance += money_in\n",
    "            return self.balance\n",
    "        else:\n",
    "            return '1원 이상 입금 가능합니다.'\n",
    "        \n",
    "    def withdraw(self, money_out):\n",
    "        if money_out >= self.balance:\n",
    "            return '계좌의 잔고 이상으로 출금할 수 없습니다.'\n",
    "        else:\n",
    "            self.balance -= money_out\n",
    "            \n",
    "            \n",
    "k = Account(\"kim\", 100)\n",
    "k.deposit(100)\n",
    "k.withdraw(90)\n",
    "print(k.balance)\n"
   ]
  },
  {
   "cell_type": "code",
   "execution_count": 239,
   "id": "b329f75c",
   "metadata": {},
   "outputs": [
    {
     "name": "stdout",
     "output_type": "stream",
     "text": [
      "은행이름: sc은행\n",
      "예금주: 파이썬\n",
      "계좌번호: 788-94-057246\n",
      "잔고: 10,000\n"
     ]
    }
   ],
   "source": [
    "# 276\n",
    "\n",
    "import random\n",
    "\n",
    "class Account:\n",
    "    account_count = 0\n",
    "    \n",
    "    def __init__(self, name, balance):\n",
    "        self.bank = 'sc은행'\n",
    "        self.name = name\n",
    "        self.balance = balance\n",
    "        \n",
    "        num1 = random.randint(0, 999)\n",
    "        num2 = random.randint(0, 99)\n",
    "        num3 = random.randint(0, 999999)\n",
    "        \n",
    "        num1 = str(num1).zfill(3)\n",
    "        num2 = str(num2).zfill(2)\n",
    "        num3 = str(num3).zfill(6)\n",
    "        \n",
    "        self.account_number = num1 + '-' + num2 + '-' + num3\n",
    "        \n",
    "        Account.account_count += 1\n",
    "        \n",
    "    @classmethod\n",
    "    def get_account_num(cls):\n",
    "        print(Account.account_count)\n",
    "        \n",
    "    def deposit(self, money_in):\n",
    "        if int(money_in) >= 1:\n",
    "            self.balance += money_in\n",
    "            return self.balance\n",
    "        else:\n",
    "            return '1원 이상 입금 가능합니다.'\n",
    "        \n",
    "    def withdraw(self, money_out):\n",
    "        if money_out >= self.balance:\n",
    "            return '계좌의 잔고 이상으로 출금할 수 없습니다.'\n",
    "        else:\n",
    "            self.balance -= money_out\n",
    "            \n",
    "    def display_info(self):\n",
    "        print('은행이름:', self.bank)\n",
    "        print('예금주:', self.name)\n",
    "        print('계좌번호:', self.account_number)\n",
    "        print(f'잔고: {self.balance:,}')\n",
    "\n",
    "p = Account(\"파이썬\", 10000)\n",
    "p.display_info()"
   ]
  },
  {
   "cell_type": "code",
   "execution_count": 246,
   "id": "f7abc88e",
   "metadata": {},
   "outputs": [
    {
     "name": "stdout",
     "output_type": "stream",
     "text": [
      "50500.0\n"
     ]
    }
   ],
   "source": [
    "# 277\n",
    "\n",
    "import random\n",
    "\n",
    "class Account:\n",
    "    account_count = 0\n",
    "    \n",
    "    def __init__(self, name, balance):\n",
    "        self.bank = 'sc은행'\n",
    "        self.name = name\n",
    "        self.balance = balance\n",
    "        self.deposit_count = 0\n",
    "        \n",
    "        num1 = random.randint(0, 999)\n",
    "        num2 = random.randint(0, 99)\n",
    "        num3 = random.randint(0, 999999)\n",
    "        \n",
    "        num1 = str(num1).zfill(3)\n",
    "        num2 = str(num2).zfill(2)\n",
    "        num3 = str(num3).zfill(6)\n",
    "        \n",
    "        self.account_number = num1 + '-' + num2 + '-' + num3\n",
    "        \n",
    "        Account.account_count += 1\n",
    "        \n",
    "    @classmethod\n",
    "    def get_account_num(cls):\n",
    "        print(Account.account_count)\n",
    "        \n",
    "    def deposit(self, money_in):\n",
    "        \n",
    "        if int(money_in) >= 1:\n",
    "            self.balance += money_in\n",
    "            self.deposit_count += 1\n",
    "        \n",
    "        if self.deposit_count % 5 == 0:  # 생성자 메서드에 self.balance 라고 속성 할당을 해줘야하는 이유는?\n",
    "                    # 아마 그냥 생성하면 클래스 변수로 생성되기때문에 인스턴스 메서드 안에서 따로 변수(속성)으로 할당을 해줘야 하지 않을까..?\n",
    "            self.balance *= 1.01\n",
    "            return self.balance\n",
    "        \n",
    "        else:\n",
    "            return '1원 이상 입금 가능합니다.'\n",
    "        \n",
    "        \n",
    "    def withdraw(self, money_out):\n",
    "        if money_out >= self.balance:\n",
    "            return '계좌의 잔고 이상으로 출금할 수 없습니다.'\n",
    "        else:\n",
    "            self.balance -= money_out\n",
    "            \n",
    "    def display_info(self):\n",
    "        print('은행이름:', self.bank)\n",
    "        print('예금주:', self.name)\n",
    "        print('계좌번호:', self.account_number)\n",
    "        print(f'잔고: {self.balance:,}')\n",
    "        \n",
    "\n",
    "        \n",
    "p = Account(\"파이썬\", 10000)\n",
    "p.deposit(10000)\n",
    "p.deposit(10000)\n",
    "p.deposit(10000)\n",
    "p.deposit(5000)\n",
    "p.deposit(5000)\n",
    "print(p.balance)\n",
    "\n"
   ]
  },
  {
   "cell_type": "code",
   "execution_count": 252,
   "id": "5d2127a7",
   "metadata": {},
   "outputs": [],
   "source": [
    "# 278\n",
    "\n",
    "a = Account(\"세종대왕\", 10000000)\n",
    "b = Account(\"신사임당\", 500000)\n",
    "c = Account(\"율곡이이\", 100000)\n",
    "\n",
    "my_list = [a, b, c]\n"
   ]
  },
  {
   "cell_type": "code",
   "execution_count": 254,
   "id": "c51622ae",
   "metadata": {},
   "outputs": [
    {
     "name": "stdout",
     "output_type": "stream",
     "text": [
      "은행이름: sc은행\n",
      "예금주: 세종대왕\n",
      "계좌번호: 993-36-908039\n",
      "잔고: 10,000,000\n"
     ]
    }
   ],
   "source": [
    "# 279\n",
    "\n",
    "for i in my_list:\n",
    "    if i.balance >= 1000000:\n",
    "        i.display_info()  # 위의 함수에서 return 이 아니라 print를 써줬기 때문에 여기서 print를 한 번 더 쓰게 되면 none이 출력되어버린다!"
   ]
  },
  {
   "cell_type": "code",
   "execution_count": 269,
   "id": "dcc5a702",
   "metadata": {},
   "outputs": [
    {
     "name": "stdout",
     "output_type": "stream",
     "text": [
      "1100\n",
      "1300\n",
      "1600\n",
      "1500\n",
      "1300\n"
     ]
    }
   ],
   "source": [
    "# 280\n",
    "\n",
    "import random\n",
    "\n",
    "class Account:\n",
    "    account_count = 0\n",
    "    \n",
    "    def __init__(self, name, balance):\n",
    "        self.bank = 'sc은행'\n",
    "        self.name = name\n",
    "        self.balance = balance\n",
    "        self.deposit_count = 0\n",
    "        self.w_history = []\n",
    "        self.d_history = []\n",
    "        \n",
    "        num1 = random.randint(0, 999)\n",
    "        num2 = random.randint(0, 99)\n",
    "        num3 = random.randint(0, 999999)\n",
    "        \n",
    "        num1 = str(num1).zfill(3)\n",
    "        num2 = str(num2).zfill(2)\n",
    "        num3 = str(num3).zfill(6)\n",
    "        \n",
    "        self.account_number = num1 + '-' + num2 + '-' + num3\n",
    "        \n",
    "        Account.account_count += 1\n",
    "        \n",
    "    @classmethod\n",
    "    def get_account_num(cls):\n",
    "        print(Account.account_count)\n",
    "        \n",
    "    def deposit(self, money_in):\n",
    "\n",
    "        if int(money_in) >= 1:\n",
    "            self.balance += money_in\n",
    "            self.deposit_count += 1\n",
    "            self.d_history.append(self.balance)\n",
    "        \n",
    "            if self.deposit_count % 5 == 0:  # 생성자 메서드에 self.balance 라고 속성 할당을 해줘야하는 이유는?\n",
    "                        # 아마 그냥 생성하면 클래스 변수로 생성되기때문에 인스턴스 메서드 안에서 따로 변수(속성)으로 할당을 해줘야 하지 않을까..?\n",
    "                self.balance *= 1.01\n",
    "                return self.balance\n",
    "            \n",
    "        else:\n",
    "            return '1원 이상 입금 가능합니다.'\n",
    "        \n",
    "    def deposit_history(self):\n",
    "        for i in self.d_history:\n",
    "            print(i)\n",
    "        \n",
    "        \n",
    "    def withdraw(self, money_out):\n",
    "        \n",
    "        if money_out >= self.balance:\n",
    "            return '계좌의 잔고 이상으로 출금할 수 없습니다.'\n",
    "        else:\n",
    "            self.balance -= money_out\n",
    "            self.w_history.append(self.balance)\n",
    "            \n",
    "    def withdraw_history(self):\n",
    "        for i in self.w_history:\n",
    "            print(i)\n",
    "            \n",
    "    def display_info(self):\n",
    "        print('은행이름:', self.bank)\n",
    "        print('예금주:', self.name)\n",
    "        print('계좌번호:', self.account_number)\n",
    "        print(f'잔고: {self.balance:,}')\n",
    "        \n",
    "        \n",
    "k = Account(\"Kim\", 1000)\n",
    "k.deposit(100)\n",
    "k.deposit(200)\n",
    "k.deposit(300)\n",
    "k.deposit_history()\n",
    "\n",
    "k.withdraw(100)\n",
    "k.withdraw(200)\n",
    "k.withdraw_history()\n",
    "\n",
    "        \n"
   ]
  },
  {
   "cell_type": "code",
   "execution_count": 262,
   "id": "11ac2b5b",
   "metadata": {},
   "outputs": [
    {
     "name": "stdout",
     "output_type": "stream",
     "text": [
      "2\n",
      "1000\n"
     ]
    }
   ],
   "source": [
    "# 281\n",
    "\n",
    "class 차:\n",
    "    def __init__(self, 바퀴, 가격):\n",
    "        self.바퀴 = 바퀴\n",
    "        self.가격 = 가격\n",
    "        \n",
    "        \n",
    "car = 차(2, 1000)\n",
    "\n",
    "print(car.바퀴)\n",
    "print(car.가격)"
   ]
  },
  {
   "cell_type": "code",
   "execution_count": 263,
   "id": "dbbb633f",
   "metadata": {},
   "outputs": [],
   "source": [
    "# 282\n",
    "\n",
    "class 자전차(차):\n",
    "    pass"
   ]
  },
  {
   "cell_type": "code",
   "execution_count": 267,
   "id": "291741f3",
   "metadata": {},
   "outputs": [
    {
     "name": "stdout",
     "output_type": "stream",
     "text": [
      "100\n"
     ]
    }
   ],
   "source": [
    "# 283\n",
    "\n",
    "class 차:\n",
    "    def __init__(self, 바퀴, 가격):\n",
    "        self.바퀴 = 바퀴\n",
    "        self.가격 = 가격\n",
    "        \n",
    "class 자전차(차):\n",
    "    def __init__(self, 바퀴, 가격):\n",
    "        self.바퀴 = 바퀴\n",
    "        self.가격 = 가격\n",
    "        \n",
    "    \n",
    "bicycle = 자전차(2, 100)\n",
    "print(bicycle.가격)\n",
    "    \n",
    "    \n",
    "# super 쓰는 법을 모르겠다......"
   ]
  },
  {
   "cell_type": "code",
   "execution_count": 270,
   "id": "d17da897",
   "metadata": {},
   "outputs": [
    {
     "name": "stdout",
     "output_type": "stream",
     "text": [
      "시마노\n"
     ]
    }
   ],
   "source": [
    "# 284\n",
    "\n",
    "class 차:\n",
    "    def __init__(self, 바퀴, 가격):\n",
    "        self.바퀴 = 바퀴\n",
    "        self.가격 = 가격\n",
    "        \n",
    "class 자전차(차):\n",
    "    def __init__(self, 바퀴, 가격, 구동계):\n",
    "        self.바퀴 = 바퀴\n",
    "        self.가격 = 가격\n",
    "        self.구동계 = 구동계\n",
    "\n",
    "        \n",
    "bicycle = 자전차(2, 100, \"시마노\")\n",
    "print(bicycle.구동계)\n"
   ]
  },
  {
   "cell_type": "code",
   "execution_count": 274,
   "id": "8b4eb7e8",
   "metadata": {},
   "outputs": [
    {
     "name": "stdout",
     "output_type": "stream",
     "text": [
      "바퀴수 4\n",
      "가격 1000\n"
     ]
    }
   ],
   "source": [
    "# 285\n",
    "\n",
    "class 차:\n",
    "    def __init__(self, 바퀴, 가격):\n",
    "        self.바퀴 = 바퀴\n",
    "        self.가격 = 가격\n",
    "        \n",
    "class 자전차(차):\n",
    "    def __init__(self, 바퀴, 가격, 구동계):\n",
    "        self.바퀴 = 바퀴\n",
    "        self.가격 = 가격\n",
    "        self.구동계 = 구동계\n",
    "\n",
    "class 자동차(차):\n",
    "    def __init__(self, 바퀴, 가격):\n",
    "        super().__init__(바퀴, 가격)  # super(). 를 쓸 때는 뒤에 init에 self가 안붙는다!!!!!!!!!!!\n",
    "    \n",
    "    def 정보(self):\n",
    "        print(\"바퀴수\", self.바퀴)\n",
    "        print(\"가격\", self.가격)\n",
    "\n",
    "car = 자동차(4, 1000)\n",
    "car.정보()\n"
   ]
  },
  {
   "cell_type": "code",
   "execution_count": 276,
   "id": "93084195",
   "metadata": {},
   "outputs": [
    {
     "name": "stdout",
     "output_type": "stream",
     "text": [
      "바퀴수 2\n",
      "가격 100\n"
     ]
    }
   ],
   "source": [
    "# 286\n",
    "\n",
    "class 차:\n",
    "    def __init__(self, 바퀴, 가격):\n",
    "        self.바퀴 = 바퀴\n",
    "        self.가격 = 가격\n",
    "        \n",
    "    def 정보(self):\n",
    "        print(\"바퀴수\", self.바퀴)\n",
    "        print(\"가격\", self.가격)\n",
    "        \n",
    "class 자전차(차):\n",
    "    def __init__(self, 바퀴, 가격, 구동계):\n",
    "        self.바퀴 = 바퀴\n",
    "        self.가격 = 가격\n",
    "        self.구동계 = 구동계\n",
    "\n",
    "class 자동차(차):\n",
    "    def __init__(self, 바퀴, 가격):\n",
    "        super().__init__(바퀴, 가격)  # super(). 를 쓸 때는 뒤에 init에 self가 안붙는다!!!!!!!!!!!\n",
    "    \n",
    "    def 정보(self):\n",
    "        print(\"바퀴수\", self.바퀴)\n",
    "        print(\"가격\", self.가격)\n",
    "\n",
    "bicycle = 자전차(2, 100, \"시마노\")\n",
    "bicycle.정보()\n"
   ]
  },
  {
   "cell_type": "code",
   "execution_count": 277,
   "id": "c2eed80b",
   "metadata": {},
   "outputs": [
    {
     "name": "stdout",
     "output_type": "stream",
     "text": [
      "바퀴수 2\n",
      "가격 100\n",
      "구동계 시마노\n"
     ]
    }
   ],
   "source": [
    "# 287\n",
    "\n",
    "class 차:\n",
    "    def __init__(self, 바퀴, 가격):\n",
    "        self.바퀴 = 바퀴\n",
    "        self.가격 = 가격\n",
    "        \n",
    "    def 정보(self):\n",
    "        print(\"바퀴수\", self.바퀴)\n",
    "        print(\"가격\", self.가격)\n",
    "        \n",
    "class 자전차(차):\n",
    "    def __init__(self, 바퀴, 가격, 구동계):\n",
    "        self.바퀴 = 바퀴\n",
    "        self.가격 = 가격\n",
    "        self.구동계 = 구동계\n",
    "        \n",
    "    def 정보(self):\n",
    "        super().정보()  # super(). 로 부모 클래스(차)의 정보 함수를 가져옴. 구동계에 해당하는 것만 하나 더 출력할 수 있게 해줌.\n",
    "        print(\"구동계\", self.구동계)\n",
    "\n",
    "class 자동차(차):\n",
    "    def __init__(self, 바퀴, 가격):\n",
    "        super().__init__(바퀴, 가격)  # super(). 를 쓸 때는 뒤에 init에 self가 안붙는다!!!!!!!!!!!\n",
    "    \n",
    "    def 정보(self):\n",
    "        print(\"바퀴수\", self.바퀴)\n",
    "        print(\"가격\", self.가격)\n",
    "        \n",
    "bicycle = 자전차(2, 100, \"시마노\")\n",
    "bicycle.정보()\n",
    "\n"
   ]
  },
  {
   "cell_type": "code",
   "execution_count": 278,
   "id": "d613f756",
   "metadata": {},
   "outputs": [
    {
     "name": "stdout",
     "output_type": "stream",
     "text": [
      "자식호출\n"
     ]
    }
   ],
   "source": [
    "# 288\n",
    "\n",
    "class 부모:\n",
    "    def 호출(self):\n",
    "        print(\"부모호출\")\n",
    "\n",
    "class 자식(부모):\n",
    "    def 호출(self):\n",
    "        print(\"자식호출\")\n",
    "\n",
    "\n",
    "나 = 자식()\n",
    "나.호출()  # 부모 클래스에도 있는 호출함수를 한번 더 써버려서 오버라이딩이 되어버림! \n",
    "\n",
    "# 자식호출"
   ]
  },
  {
   "cell_type": "code",
   "execution_count": 279,
   "id": "283df673",
   "metadata": {},
   "outputs": [
    {
     "name": "stdout",
     "output_type": "stream",
     "text": [
      "자식생성\n"
     ]
    }
   ],
   "source": [
    "# 289\n",
    "\n",
    "class 부모:\n",
    "    def __init__(self):\n",
    "        print(\"부모생성\")\n",
    "\n",
    "class 자식(부모):\n",
    "    def __init__(self):\n",
    "        print(\"자식생성\")\n",
    "\n",
    "나 = 자식()\n",
    "\n",
    "# 자식생성"
   ]
  },
  {
   "cell_type": "code",
   "execution_count": 281,
   "id": "54d1bf73",
   "metadata": {},
   "outputs": [
    {
     "name": "stdout",
     "output_type": "stream",
     "text": [
      "자식생성\n",
      "부모생성\n"
     ]
    }
   ],
   "source": [
    "# 290\n",
    "\n",
    "class 부모:\n",
    "    def __init__(self):\n",
    "        print(\"부모생성\")\n",
    "\n",
    "class 자식(부모):\n",
    "    def __init__(self):\n",
    "        print(\"자식생성\")\n",
    "        super().__init__()\n",
    "\n",
    "나 = 자식()\n",
    "\n",
    "# 부모생성\n",
    "\n",
    "# 자식생성이랑 부모생성 둘 다 나와버림.. 왜냐면 '나'는 자식 클래스의 인스턴스여서 일단 print 구문이 더 앞에 있으니, 걔도 실행\n",
    "# 그리고 아래에 있는 부모 클래스의 생성자 메서드도 호출해서 부모 클래스의 생성자 메서드의 결과인 print 구문도 실행. "
   ]
  },
  {
   "cell_type": "code",
   "execution_count": null,
   "id": "5745359a",
   "metadata": {},
   "outputs": [],
   "source": [
    "# 291 ~ 300 은 파일 입출력과 예외처리인데 안배운거라서 안하겠음 ^0^"
   ]
  }
 ],
 "metadata": {
  "kernelspec": {
   "display_name": "Python 3 (ipykernel)",
   "language": "python",
   "name": "python3"
  },
  "language_info": {
   "codemirror_mode": {
    "name": "ipython",
    "version": 3
   },
   "file_extension": ".py",
   "mimetype": "text/x-python",
   "name": "python",
   "nbconvert_exporter": "python",
   "pygments_lexer": "ipython3",
   "version": "3.10.10"
  }
 },
 "nbformat": 4,
 "nbformat_minor": 5
}
